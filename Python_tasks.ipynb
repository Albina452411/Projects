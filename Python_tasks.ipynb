{
 "cells": [
  {
   "cell_type": "markdown",
   "id": "f273084f",
   "metadata": {},
   "source": [
    "AABAABBAAABBBЗадана строка из символов A и B. Например, . Есть операция flip, которая\n",
    "заменяет в заданной позиции символ A на B и наоборот. Определить, сколько раз потребуется\n",
    "применить данную операцию, чтобы в строке буквы A предшествовали буквам B. В приведенном\n",
    "примере ответ 3, так как нужно изменить буквы 2, 5, 6.\n",
    "\n"
   ]
  },
  {
   "cell_type": "code",
   "execution_count": 47,
   "id": "5f254ddc",
   "metadata": {},
   "outputs": [
    {
     "data": {
      "text/plain": [
       "3"
      ]
     },
     "execution_count": 47,
     "metadata": {},
     "output_type": "execute_result"
    }
   ],
   "source": [
    "stroka = 'AABAABBAAABBB'\n",
    "def flip(stroka):\n",
    "    first_b = -1\n",
    "    last_a = -1\n",
    "    for i in range(len(stroka) - 1, 0, -1):\n",
    "        if stroka[i] == 'A':\n",
    "            last_a = i \n",
    "            break\n",
    "    for i in range(len(stroka)):\n",
    "        if stroka[i] == 'B':\n",
    "            first_b = i\n",
    "            break\n",
    "    if first_b == -1 or last_a == -1:  #если индекс не изменился, значит, все А или все В\n",
    "        return 0\n",
    "\n",
    "    b_counter = 0\n",
    "    for i in range(last_a):\n",
    "        if stroka[i] == 'B':\n",
    "            b_counter += 1\n",
    "\n",
    "    a_counter = 0\n",
    "    for i in range(len(stroka) - 1, first_b, -1):\n",
    "        if stroka[i] == 'A':\n",
    "            a_counter += 1\n",
    "    return min(a_counter, b_counter)\n",
    "\n",
    "flip(stroka)"
   ]
  },
  {
   "cell_type": "markdown",
   "id": "eeb81729",
   "metadata": {},
   "source": [
    "Задан список неотрицательных целых чисел. Вывести максимальное число, которое можно получить\n",
    "выписывая в произвольном порядке без повторов элементы списка. Например,\n",
    "[12, 843, 44, 9] ==> 98434412"
   ]
  },
  {
   "cell_type": "code",
   "execution_count": 67,
   "id": "827e333c",
   "metadata": {},
   "outputs": [
    {
     "name": "stdout",
     "output_type": "stream",
     "text": [
      "53525150950504\n"
     ]
    }
   ],
   "source": [
    "# 2 задача\n",
    "#spisok = [12, 843, 44, 9]\n",
    "spisok = [51, 52, 50, 53, 509, 50, 4]\n",
    "\n",
    "\n",
    "\n",
    "def func(spisok):\n",
    "    for i in range(len(spisok)):\n",
    "        spisok[i]=str(spisok[i])\n",
    "    for i in range(len(spisok)):\n",
    "        for j in range(1+i, len(spisok)):\n",
    "            if spisok[j]+spisok[i] > spisok[i] + spisok[j]:\n",
    "                spisok[i], spisok[j] = spisok[j], spisok[i]\n",
    "    result=''.join(spisok)\n",
    "    return result\n",
    "\n",
    "print(func(spisok))"
   ]
  },
  {
   "cell_type": "markdown",
   "id": "e3bd6ddf",
   "metadata": {},
   "source": [
    "Для заданного массива целых чисел вычислить максимальную сумму подряд идущих элементов,\n",
    "рассматривая массив как циклический. Например, [8, -1, 3, 4] ==> 15 = 3 + 4 + 8, [-4, 5, 1, 0] ==> 6.\n",
    "Сделать за время O(n), где n - длина массива.\n"
   ]
  },
  {
   "cell_type": "code",
   "execution_count": 39,
   "id": "94f91b82",
   "metadata": {},
   "outputs": [
    {
     "data": {
      "text/plain": [
       "15"
      ]
     },
     "execution_count": 39,
     "metadata": {},
     "output_type": "execute_result"
    }
   ],
   "source": [
    "massive = [8, -1, 3, 4]\n",
    "def max_massive(massive):\n",
    "    max_now = 0 #макс сумма на данный момент\n",
    "    max_ending = 0 # текущий макс подмассива\n",
    "\n",
    "    for i in range(len(massive)):\n",
    "        max_ending = max_ending + massive[i] #добавляем значение к подмассиву\n",
    "        if max_ending < 0:\n",
    "            max_ending = 0   # отриц сумму возвр к нулю\n",
    "        if max_now < max_ending:\n",
    "            max_now = max_ending\n",
    "    return max_now\n",
    "\n",
    "\n",
    "def circ(massive):\n",
    "    max_znach = max_massive(massive)\n",
    "    max_funs = 0 # элемент кольца\n",
    "    for i in range(len(massive)):\n",
    "        max_funs += massive[i] # добавляем элемент к кольцу\n",
    "        massive[i] = -massive[i] # чтобы элемент не зашел дважды\n",
    "    max_funs = max_funs + max_massive(massive) #добавляем значение к циклу\n",
    "    if max_funs > max_znach:\n",
    "        return max_funs\n",
    "    else:\n",
    "        return max_znach\n",
    "    \n",
    "max_massive(massive)\n",
    "circ(massive)"
   ]
  },
  {
   "cell_type": "code",
   "execution_count": 17,
   "id": "9c843323",
   "metadata": {},
   "outputs": [
    {
     "name": "stdout",
     "output_type": "stream",
     "text": [
      "3\n",
      "1 2 3\n",
      "4 5 6\n",
      "7 8 9\n"
     ]
    },
    {
     "data": {
      "text/plain": [
       "[[1, 2, 1], [4, 5, 6], [7, 8, 9]]"
      ]
     },
     "execution_count": 17,
     "metadata": {},
     "output_type": "execute_result"
    }
   ],
   "source": [
    "n = int(input()) # количество строк и столбцов\n",
    "matrix = []\n",
    "def matrix_app(matrix):\n",
    "    for i in range(n): # заполняем матрицу\n",
    "        temp = [int(num) for num in input().split()]\n",
    "        matrix.append(temp)\n",
    "        \n",
    "def rotate(matrix): \n",
    "    for l in range(n):\n",
    "        for k in range(n-l):\n",
    "            temp = matrix[k][l]\n",
    "    for j in range(n):\n",
    "        for i in range(n-1, -1, -1):\n",
    "            matrix[k][l]= matrix[i][j]\n",
    "        return matrix\n",
    "\n",
    "matrix_app(matrix)\n",
    "rotate(matrix)"
   ]
  },
  {
   "cell_type": "code",
   "execution_count": 40,
   "id": "dc130255",
   "metadata": {},
   "outputs": [
    {
     "name": "stdout",
     "output_type": "stream",
     "text": [
      "[[1, 2, 3], [4, 5, 6], [7, 8, 9]]\n"
     ]
    },
    {
     "data": {
      "text/plain": [
       "[[7, 4, 1], [8, 5, 2], [9, 6, 3]]"
      ]
     },
     "execution_count": 40,
     "metadata": {},
     "output_type": "execute_result"
    }
   ],
   "source": [
    "# 4 задача \n",
    "matrix = [[1, 2, 3], [4, 5, 6], [7, 8, 9]]\n",
    "print(matrix)\n",
    "row = len(matrix[0])\n",
    "col = len(matrix)\n",
    "\n",
    "#def matrix_app(matrix):\n",
    "    #for i in range(n):\n",
    "        #temp = [int(num) for num in input().split()]\n",
    "       # matrix.append(temp)\n",
    "   # return matrix \n",
    "\n",
    "def matrix_rot(matrix):\n",
    "    for i in range(col):\n",
    "        j = 0\n",
    "        k = col - 1 # идем с конца\n",
    "        while j < k:\n",
    "            temp = matrix[k][i]\n",
    "            matrix[k][i] = matrix[j][i]\n",
    "            matrix[j][i] = temp\n",
    "            j += 1\n",
    "            k -=1\n",
    "    return matrix\n",
    "    \n",
    "def transp(matrix):\n",
    "    for i in range(row):\n",
    "        temp = 0\n",
    "        for j in range(i,col):\n",
    "            temp = matrix[i][j]\n",
    "            matrix[i][j]=matrix[j][i]\n",
    "            matrix[j][i] = temp\n",
    "    return matrix\n",
    "\n",
    "\n",
    "\n",
    "\n",
    "matrix_rot(matrix)\n",
    "transp(matrix)"
   ]
  },
  {
   "cell_type": "code",
   "execution_count": 10,
   "id": "35bd62b9",
   "metadata": {},
   "outputs": [
    {
     "name": "stdout",
     "output_type": "stream",
     "text": [
      "1 2 3 55 66\n",
      "5\n",
      "[1, 2, 3, 55, 66]\n"
     ]
    }
   ],
   "source": [
    "# 5 задача\n",
    "massive = list(map(int,input().split()))\n",
    "for i in range(len(massive)):\n",
    "    for j in range(len(massive)-i-1):\n",
    "        if massive[j] > massive[j+1]:\n",
    "            massive[j], massive[j+1] = massive[j+1], massive[j]\n",
    "print(massive)"
   ]
  },
  {
   "cell_type": "code",
   "execution_count": null,
   "id": "9de5c9eb",
   "metadata": {},
   "outputs": [],
   "source": []
  }
 ],
 "metadata": {
  "kernelspec": {
   "display_name": "Python 3 (ipykernel)",
   "language": "python",
   "name": "python3"
  },
  "language_info": {
   "codemirror_mode": {
    "name": "ipython",
    "version": 3
   },
   "file_extension": ".py",
   "mimetype": "text/x-python",
   "name": "python",
   "nbconvert_exporter": "python",
   "pygments_lexer": "ipython3",
   "version": "3.9.12"
  }
 },
 "nbformat": 4,
 "nbformat_minor": 5
}
