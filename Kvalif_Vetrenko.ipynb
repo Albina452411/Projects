{
 "cells": [
  {
   "cell_type": "markdown",
   "id": "e9482b41",
   "metadata": {},
   "source": [
    "## <center> Квалификационная работа по курсу \"Математические методы для анализа данных\" </center>\n"
   ]
  },
  {
   "cell_type": "markdown",
   "id": "20a127bb",
   "metadata": {},
   "source": [
    "#### <center> <b><u>Выполнила:</u></b><br>студентка 120М группы<br>Ветренко Альбина Романовна </center>"
   ]
  },
  {
   "cell_type": "markdown",
   "id": "11bae809",
   "metadata": {},
   "source": [
    "#### __Суть работы:__"
   ]
  },
  {
   "cell_type": "markdown",
   "id": "d708983d",
   "metadata": {},
   "source": [
    "Для анализа предоставлены результаты петрофизических исследований, проведенных на отложениях <b>тюменской свиты</b> Западной Сибири. Отложения верхней части тюменской свиты представлены пластом песчаника Ю2, пласт характеризуется сильной изменчивостью состава, обусловленную постоянной сменой условий осадконакопления и неоднородностью палеогеографической обстановки. Благодаря своей изменчивости, данные отложения представляют большой интерес гелогов-нефтяников.\n",
    "\n",
    "В работе необходимо определить: \n",
    "1) Структуру пород по результатам гранулометрических исследований и сравним с результатами лабораторных исследований; Также ответить на вопрос: \"Можно ли на данный момент заменить лабораторный гранулометрический анализ цифровым?\"\n",
    "\n",
    "2) При лабораторном определении объёмной плотности происходит очень много допущений и погрешностей (сначала породу обтачивают, потом покрывают парафином, который может заполнить пустоты и занизить значение минералогической плотности, погрешность весов и т.д.). Определим значения объёмной плотности и сравним с лабораторными значениями, чтобы понять точность исследований и возможность/невозможность ее получения не только лабораторным способом.\n",
    "\n",
    "3) Предположим коэффициент пористости по объёму пор и объёмной плотности, так как пористость зависит от объёма пор и плотности прямолинейно. Подобная работа поможет в дальнейшем получать значения пористости для образцов, у которых пористость не исследовалась.\n",
    "\n"
   ]
  },
  {
   "cell_type": "code",
   "execution_count": 1,
   "id": "3625a390",
   "metadata": {},
   "outputs": [],
   "source": [
    "import pandas as pd\n",
    "import numpy as np\n",
    "from numpy import linalg as la\n",
    "from matplotlib import pyplot as plt\n",
    "from sklearn.linear_model import LinearRegression\n",
    "from sklearn.preprocessing import scale\n",
    "import seaborn as sns\n",
    "%matplotlib inline\n",
    "import csv"
   ]
  },
  {
   "cell_type": "code",
   "execution_count": 2,
   "id": "57332b7e",
   "metadata": {},
   "outputs": [
    {
     "name": "stdout",
     "output_type": "stream",
     "text": [
      "Requirement already satisfied: openpyxl in c:\\users\\albin\\anakonda\\lib\\site-packages (3.0.9)\n",
      "Requirement already satisfied: et-xmlfile in c:\\users\\albin\\anakonda\\lib\\site-packages (from openpyxl) (1.1.0)\n",
      "Requirement already satisfied: tabulate in c:\\users\\albin\\anakonda\\lib\\site-packages (0.8.9)\n"
     ]
    }
   ],
   "source": [
    "! pip install openpyxl\n",
    "! pip install tabulate"
   ]
  },
  {
   "cell_type": "code",
   "execution_count": 3,
   "id": "da6c2e2a",
   "metadata": {},
   "outputs": [],
   "source": [
    "dfs = pd.read_excel('C:\\\\Users\\\\albin\\\\Anakonda\\\\lab_tumenskaya.xlsx', engine='openpyxl', \n",
    "                   sheet_name=['Лист2'])"
   ]
  },
  {
   "cell_type": "markdown",
   "id": "0c8bfcf5",
   "metadata": {},
   "source": [
    "Откроем таблицу не как excel, а как csv"
   ]
  },
  {
   "cell_type": "code",
   "execution_count": 4,
   "id": "51005751",
   "metadata": {},
   "outputs": [
    {
     "data": {
      "text/plain": [
       "<_csv.reader at 0x298d558cbe0>"
      ]
     },
     "execution_count": 4,
     "metadata": {},
     "output_type": "execute_result"
    }
   ],
   "source": [
    "filename=csv.reader('C:\\\\Users\\\\albin\\\\Anakonda\\\\gransost.csv', delimiter=';')\n",
    "filename"
   ]
  },
  {
   "cell_type": "code",
   "execution_count": 5,
   "id": "4f7c487b",
   "metadata": {},
   "outputs": [],
   "source": [
    "with open('C:\\\\Users\\\\albin\\\\Anakonda\\\\gransost.csv', 'r') as f:\n",
    "    bf = f.read()\n",
    "    #print(bf)"
   ]
  },
  {
   "cell_type": "markdown",
   "id": "07334283",
   "metadata": {},
   "source": [
    "Файл открылся неправильно, так как у него неверная кодировка текста, поменяем кодировку на 'utf-8' и прочитаем файл заново"
   ]
  },
  {
   "cell_type": "code",
   "execution_count": 6,
   "id": "515fb699",
   "metadata": {},
   "outputs": [
    {
     "data": {
      "text/html": [
       "<div>\n",
       "<style scoped>\n",
       "    .dataframe tbody tr th:only-of-type {\n",
       "        vertical-align: middle;\n",
       "    }\n",
       "\n",
       "    .dataframe tbody tr th {\n",
       "        vertical-align: top;\n",
       "    }\n",
       "\n",
       "    .dataframe thead th {\n",
       "        text-align: right;\n",
       "    }\n",
       "</style>\n",
       "<table border=\"1\" class=\"dataframe\">\n",
       "  <thead>\n",
       "    <tr style=\"text-align: right;\">\n",
       "      <th></th>\n",
       "      <th>1.0-0.9</th>\n",
       "      <th>0.9-0.8</th>\n",
       "      <th>0.8-0.7</th>\n",
       "      <th>0.7-0.6</th>\n",
       "      <th>0.6-0.5</th>\n",
       "      <th>0.5-0.4</th>\n",
       "      <th>0.4-0.3</th>\n",
       "      <th>0.3-0.2</th>\n",
       "      <th>0.2-0.1</th>\n",
       "      <th>0.1-0.09</th>\n",
       "      <th>0.09-0.08</th>\n",
       "      <th>0.08-0.07</th>\n",
       "      <th>0.06-0.05</th>\n",
       "      <th>0.04-0.03</th>\n",
       "      <th>0.02-0.01</th>\n",
       "      <th>0.01-0.005</th>\n",
       "      <th>0.004-0.003</th>\n",
       "      <th>Kп (%)</th>\n",
       "      <th>Kпр (мД)</th>\n",
       "    </tr>\n",
       "    <tr>\n",
       "      <th>Лабораторный номер образца</th>\n",
       "      <th></th>\n",
       "      <th></th>\n",
       "      <th></th>\n",
       "      <th></th>\n",
       "      <th></th>\n",
       "      <th></th>\n",
       "      <th></th>\n",
       "      <th></th>\n",
       "      <th></th>\n",
       "      <th></th>\n",
       "      <th></th>\n",
       "      <th></th>\n",
       "      <th></th>\n",
       "      <th></th>\n",
       "      <th></th>\n",
       "      <th></th>\n",
       "      <th></th>\n",
       "      <th></th>\n",
       "      <th></th>\n",
       "    </tr>\n",
       "  </thead>\n",
       "  <tbody>\n",
       "    <tr>\n",
       "      <th>18946-21</th>\n",
       "      <td>0.01</td>\n",
       "      <td>0.03</td>\n",
       "      <td>0.03</td>\n",
       "      <td>0.05</td>\n",
       "      <td>0.07</td>\n",
       "      <td>0.11</td>\n",
       "      <td>0.25</td>\n",
       "      <td>0.54</td>\n",
       "      <td>6.92</td>\n",
       "      <td>7.02</td>\n",
       "      <td>11.30</td>\n",
       "      <td>11.94</td>\n",
       "      <td>9.32</td>\n",
       "      <td>31.76</td>\n",
       "      <td>6.75</td>\n",
       "      <td>9.23</td>\n",
       "      <td>4.68</td>\n",
       "      <td>13.768</td>\n",
       "      <td>0.279</td>\n",
       "    </tr>\n",
       "    <tr>\n",
       "      <th>18947-21</th>\n",
       "      <td>0.03</td>\n",
       "      <td>0.03</td>\n",
       "      <td>0.05</td>\n",
       "      <td>0.09</td>\n",
       "      <td>0.08</td>\n",
       "      <td>0.15</td>\n",
       "      <td>0.18</td>\n",
       "      <td>0.26</td>\n",
       "      <td>6.51</td>\n",
       "      <td>16.72</td>\n",
       "      <td>23.66</td>\n",
       "      <td>11.78</td>\n",
       "      <td>10.08</td>\n",
       "      <td>18.74</td>\n",
       "      <td>4.58</td>\n",
       "      <td>5.76</td>\n",
       "      <td>3.00</td>\n",
       "      <td>13.657</td>\n",
       "      <td>0.173</td>\n",
       "    </tr>\n",
       "    <tr>\n",
       "      <th>18948-21</th>\n",
       "      <td>0.01</td>\n",
       "      <td>0.02</td>\n",
       "      <td>0.06</td>\n",
       "      <td>0.08</td>\n",
       "      <td>0.17</td>\n",
       "      <td>2.52</td>\n",
       "      <td>20.13</td>\n",
       "      <td>21.01</td>\n",
       "      <td>8.96</td>\n",
       "      <td>4.43</td>\n",
       "      <td>3.44</td>\n",
       "      <td>2.54</td>\n",
       "      <td>2.49</td>\n",
       "      <td>10.83</td>\n",
       "      <td>4.01</td>\n",
       "      <td>6.03</td>\n",
       "      <td>2.58</td>\n",
       "      <td>15.853</td>\n",
       "      <td>3.606</td>\n",
       "    </tr>\n",
       "    <tr>\n",
       "      <th>18949-21</th>\n",
       "      <td>0.01</td>\n",
       "      <td>0.03</td>\n",
       "      <td>0.04</td>\n",
       "      <td>0.05</td>\n",
       "      <td>0.07</td>\n",
       "      <td>0.08</td>\n",
       "      <td>0.12</td>\n",
       "      <td>0.27</td>\n",
       "      <td>16.21</td>\n",
       "      <td>18.97</td>\n",
       "      <td>15.21</td>\n",
       "      <td>7.85</td>\n",
       "      <td>7.06</td>\n",
       "      <td>18.28</td>\n",
       "      <td>5.12</td>\n",
       "      <td>6.51</td>\n",
       "      <td>3.52</td>\n",
       "      <td>17.195</td>\n",
       "      <td>5.816</td>\n",
       "    </tr>\n",
       "    <tr>\n",
       "      <th>18950-21</th>\n",
       "      <td>0.03</td>\n",
       "      <td>0.03</td>\n",
       "      <td>0.02</td>\n",
       "      <td>0.04</td>\n",
       "      <td>0.07</td>\n",
       "      <td>0.11</td>\n",
       "      <td>0.23</td>\n",
       "      <td>0.54</td>\n",
       "      <td>17.66</td>\n",
       "      <td>18.19</td>\n",
       "      <td>15.23</td>\n",
       "      <td>9.57</td>\n",
       "      <td>6.14</td>\n",
       "      <td>15.66</td>\n",
       "      <td>4.49</td>\n",
       "      <td>5.97</td>\n",
       "      <td>3.60</td>\n",
       "      <td>16.790</td>\n",
       "      <td>5.188</td>\n",
       "    </tr>\n",
       "  </tbody>\n",
       "</table>\n",
       "</div>"
      ],
      "text/plain": [
       "                            1.0-0.9  0.9-0.8  0.8-0.7  0.7-0.6  0.6-0.5  \\\n",
       "Лабораторный номер образца                                                \n",
       "18946-21                       0.01     0.03     0.03     0.05     0.07   \n",
       "18947-21                       0.03     0.03     0.05     0.09     0.08   \n",
       "18948-21                       0.01     0.02     0.06     0.08     0.17   \n",
       "18949-21                       0.01     0.03     0.04     0.05     0.07   \n",
       "18950-21                       0.03     0.03     0.02     0.04     0.07   \n",
       "\n",
       "                            0.5-0.4  0.4-0.3  0.3-0.2  0.2-0.1  0.1-0.09  \\\n",
       "Лабораторный номер образца                                                 \n",
       "18946-21                       0.11     0.25     0.54     6.92      7.02   \n",
       "18947-21                       0.15     0.18     0.26     6.51     16.72   \n",
       "18948-21                       2.52    20.13    21.01     8.96      4.43   \n",
       "18949-21                       0.08     0.12     0.27    16.21     18.97   \n",
       "18950-21                       0.11     0.23     0.54    17.66     18.19   \n",
       "\n",
       "                            0.09-0.08  0.08-0.07  0.06-0.05  0.04-0.03  \\\n",
       "Лабораторный номер образца                                               \n",
       "18946-21                        11.30      11.94       9.32      31.76   \n",
       "18947-21                        23.66      11.78      10.08      18.74   \n",
       "18948-21                         3.44       2.54       2.49      10.83   \n",
       "18949-21                        15.21       7.85       7.06      18.28   \n",
       "18950-21                        15.23       9.57       6.14      15.66   \n",
       "\n",
       "                            0.02-0.01  0.01-0.005  0.004-0.003  Kп (%)  \\\n",
       "Лабораторный номер образца                                               \n",
       "18946-21                         6.75        9.23         4.68  13.768   \n",
       "18947-21                         4.58        5.76         3.00  13.657   \n",
       "18948-21                         4.01        6.03         2.58  15.853   \n",
       "18949-21                         5.12        6.51         3.52  17.195   \n",
       "18950-21                         4.49        5.97         3.60  16.790   \n",
       "\n",
       "                            Kпр (мД)  \n",
       "Лабораторный номер образца            \n",
       "18946-21                       0.279  \n",
       "18947-21                       0.173  \n",
       "18948-21                       3.606  \n",
       "18949-21                       5.816  \n",
       "18950-21                       5.188  "
      ]
     },
     "execution_count": 6,
     "metadata": {},
     "output_type": "execute_result"
    }
   ],
   "source": [
    "df=pd.read_csv('C:\\\\Users\\\\albin\\\\Anakonda\\\\gransost_Kperm_Kpore_1.csv', sep=';', index_col=0)\n",
    "df.head()"
   ]
  },
  {
   "cell_type": "markdown",
   "id": "cf3a97f9",
   "metadata": {},
   "source": [
    "Проверяем качество сортировки зёрен, то есть их однородности по размеру. Для этого построим гистограммы распределения размеров зёрен по фракциям и посмотрим их распределение. Если преобладает только одна фракция, то тогда сортировка хорошая и, следовательно, пустотное пространство в породе не будет забиваться зернами меньшего размера."
   ]
  },
  {
   "cell_type": "code",
   "execution_count": 7,
   "id": "651d9d35",
   "metadata": {},
   "outputs": [
    {
     "name": "stdout",
     "output_type": "stream",
     "text": [
      "<class 'pandas.core.frame.DataFrame'>\n",
      "Index: 53 entries, 18946-21 to 26118-21\n",
      "Data columns (total 19 columns):\n",
      " #   Column       Non-Null Count  Dtype  \n",
      "---  ------       --------------  -----  \n",
      " 0   1.0-0.9      53 non-null     float64\n",
      " 1   0.9-0.8      53 non-null     float64\n",
      " 2   0.8-0.7      53 non-null     float64\n",
      " 3   0.7-0.6      53 non-null     float64\n",
      " 4   0.6-0.5      53 non-null     float64\n",
      " 5   0.5-0.4      53 non-null     float64\n",
      " 6   0.4-0.3      53 non-null     float64\n",
      " 7   0.3-0.2      53 non-null     float64\n",
      " 8   0.2-0.1      53 non-null     float64\n",
      " 9   0.1-0.09     53 non-null     float64\n",
      " 10  0.09-0.08    53 non-null     float64\n",
      " 11  0.08-0.07    53 non-null     float64\n",
      " 12  0.06-0.05    53 non-null     float64\n",
      " 13  0.04-0.03    53 non-null     float64\n",
      " 14  0.02-0.01    53 non-null     float64\n",
      " 15  0.01-0.005   53 non-null     float64\n",
      " 16  0.004-0.003  53 non-null     float64\n",
      " 17  Kп (%)       53 non-null     float64\n",
      " 18  Kпр (мД)     53 non-null     float64\n",
      "dtypes: float64(19)\n",
      "memory usage: 8.3+ KB\n"
     ]
    }
   ],
   "source": [
    "# columns = df.columns\n",
    "# for i in columns[1:]:\n",
    "    # try:\n",
    "        # df[i] = df[i].astype(float)\n",
    "    # except:\n",
    "        # pass\n",
    "df = df.astype(float, errors='ignore')\n",
    "df.info()"
   ]
  },
  {
   "cell_type": "code",
   "execution_count": 8,
   "id": "a8968b9c",
   "metadata": {},
   "outputs": [
    {
     "data": {
      "text/plain": [
       "1.0-0.9         0.010\n",
       "0.9-0.8         0.030\n",
       "0.8-0.7         0.030\n",
       "0.7-0.6         0.050\n",
       "0.6-0.5         0.070\n",
       "0.5-0.4         0.110\n",
       "0.4-0.3         0.250\n",
       "0.3-0.2         0.540\n",
       "0.2-0.1         6.920\n",
       "0.1-0.09        7.020\n",
       "0.09-0.08      11.300\n",
       "0.08-0.07      11.940\n",
       "0.06-0.05       9.320\n",
       "0.04-0.03      31.760\n",
       "0.02-0.01       6.750\n",
       "0.01-0.005      9.230\n",
       "0.004-0.003     4.680\n",
       "Kп (%)         13.768\n",
       "Kпр (мД)        0.279\n",
       "Name: 18946-21, dtype: float64"
      ]
     },
     "execution_count": 8,
     "metadata": {},
     "output_type": "execute_result"
    }
   ],
   "source": [
    "df.loc['18946-21']"
   ]
  },
  {
   "cell_type": "code",
   "execution_count": 9,
   "id": "5473e956",
   "metadata": {
    "scrolled": true
   },
   "outputs": [
    {
     "data": {
      "image/png": "[encoded data removed]",
      "text/plain": [
       "<Figure size 720x360 with 1 Axes>"
      ]
     },
     "metadata": {
      "needs_background": "light"
     },
     "output_type": "display_data"
    },
    {
     "data": {
      "image/png": "[encoded data removed]",
      "text/plain": [
       "<Figure size 720x360 with 1 Axes>"
      ]
     },
     "metadata": {
      "needs_background": "light"
     },
     "output_type": "display_data"
    },
    {
     "data": {
      "image/png": "[encoded data removed]",
      "text/plain": [
       "<Figure size 720x360 with 1 Axes>"
      ]
     },
     "metadata": {
      "needs_background": "light"
     },
     "output_type": "display_data"
    }
   ],
   "source": [
    "#plt.subplots(2,2)\n",
    "line=df.loc['18946-21'][:-2][::-1] # работаем с первой строкой\n",
    "hf_fr=line.to_dict()  # создаем словарь, где ключ- фракция, а значение- процентное содержание фракции\n",
    "plt.figure(figsize=(10, 5)) # задаем размер поля, ширина и длина \n",
    "plt.bar(hf_fr.keys(), height=hf_fr.values(),linewidth=2.0, edgecolor='k', width=1, align='edge', color='green') # делаю контур графиков, настраиваю их ширину\n",
    "plt.xlabel('Размеры фракций')                                                     # делаю разметки по графикам\n",
    "plt.ylabel('Процентное содержание каждой фракции')\n",
    "plt.xticks(rotation=45, ha='right') # повернули текст на 45 градусов\n",
    "plt.rcParams.update({'font.size': 10}) # настраиваем размер текста\n",
    "plt.title('Гранулометрический состав обр. 18946-21')\n",
    "plt.legend('Процент')\n",
    "plt.show()\n",
    "\n",
    "line=df.loc['18947-21'][:-2][::-1] # работаем с первой строкой\n",
    "hf_fr=line.to_dict()  # создаем словарь, где ключ- фракция, а значение- процентное содержание фракции\n",
    "plt.figure(figsize=(10, 5)) # задаем размер поля, ширина и длина \n",
    "plt.bar(hf_fr.keys(), height=hf_fr.values(),linewidth=2.0, edgecolor='k', width=1, align='edge', color='green') # делаю контур графиков, настраиваю их ширину\n",
    "plt.xlabel('Размеры фракций')                                                     # делаю разметки по графикам\n",
    "plt.ylabel('Процентное содержание каждой фракции')\n",
    "plt.xticks(rotation=45, ha='right') # повернули текст на 45 градусов\n",
    "plt.rcParams.update({'font.size': 10}) # настраиваем размер текста\n",
    "plt.title('Гранулометрический состав обр. 18946-21')\n",
    "plt.legend('Процент')\n",
    "plt.show()\n",
    "\n",
    "line=df.loc['18948-21'][:-2][::-1] # работаем с первой строкой\n",
    "hf_fr=line.to_dict()  # создаем словарь, где ключ- фракция, а значение- процентное содержание фракции\n",
    "plt.figure(figsize=(10, 5)) # задаем размер поля, ширина и длина \n",
    "plt.bar(hf_fr.keys(), height=hf_fr.values(),linewidth=2.0, edgecolor='k', width=1, align='edge', color='green') # делаю контур графиков, настраиваю их ширину\n",
    "plt.xlabel('Размеры фракций')                                                     # делаю разметки по графикам\n",
    "plt.ylabel('Процентное содержание каждой фракции')\n",
    "plt.xticks(rotation=45, ha='right') # повернули текст на 45 градусов\n",
    "plt.rcParams.update({'font.size': 10}) # настраиваем размер текста\n",
    "plt.title('Гранулометрический состав обр. 18948-21')\n",
    "plt.legend('Процент')\n",
    "plt.show()\n",
    "#sns.histplot(line, kde=True)"
   ]
  },
  {
   "cell_type": "markdown",
   "id": "65e8755b",
   "metadata": {},
   "source": [
    "У первых трех образцов наблюдается следующая картина: у образца 18946-21 сортировка хорошая, так как преобладает фракция 0.06-0.05 среднезернистого алевролита, у остальных образцов наблюдается как крупнозернистый материал, так и крупнозернистый, что будет влиять в первую очередь на пористость, добывать из такого коллектора будут в последнюю очередь."
   ]
  },
  {
   "cell_type": "markdown",
   "id": "248af510",
   "metadata": {},
   "source": [
    "# Стандартное отклонение показывает, насколько далеко от среднего арифметического находятся точки данных. Рассчитывается по формуле:\n",
    "$\n",
    "\\sigma = \\sqrt\\frac{\\Sigma{(x_{i}-\\bar{x})^2}}{N}\n",
    "$\n",
    "\n",
    "где $\\sigma$ - среднеквадратичное отклонение;\n",
    "$x{i}$ - каждый элемент выборки;\n",
    "$\\bar{x}$ - среднее значение для совокупности;\n",
    "N - размер выборки\n",
    "\n",
    "Задачи гранулометрического анализа можно поделить на 4 группы: \n",
    "1) точное определение механического состава и названия породы, что в дальнейшем определяет предположения о фильтрационных свойствах;\n",
    "\n",
    "2) реконструкция условий осадконакопления;\n",
    "\n",
    "3) подготовка к исследованию зёрен другими методами (пикнометрический метод для определения минералогической плотности)\n",
    "\n",
    "Для прогнозирования фильтрационно-емкостных свойств геолога интересует значение стандартного отклонения, так как оно даёт представление об однородности зёрен по размеру и определяет использовать среднее значение для определения типа породы.\n",
    "\n",
    "При классическом лабораторном анализе можно получить примерные значения стандартного отклонения, так как мы не знаем значение диаметра каждого зерна и количество зёрен определенного диаметра. Уточнить результаты можно с помощью обработки цифрового двойника и дальше сравнить полученные значения.\n",
    "Обработка цифрового двойника происходит следующим образом: берется томография образца, по которой строится 3D-модель, далее делается виртуальное разделение образцов, считается эквивалентный диаметр (диаметр сферы того же объёма, что и образец). На выходе получается таблица со значениями по каждому зерну, а далее идёт расчёт стандартного отклонения."
   ]
  },
  {
   "cell_type": "markdown",
   "id": "924b96ae",
   "metadata": {},
   "source": [
    "Загрузим таблицу с данными по эквивалентному диаметру каждого зерна."
   ]
  },
  {
   "cell_type": "code",
   "execution_count": 10,
   "id": "90ba651a",
   "metadata": {
    "scrolled": false
   },
   "outputs": [
    {
     "data": {
      "text/html": [
       "<div>\n",
       "<style scoped>\n",
       "    .dataframe tbody tr th:only-of-type {\n",
       "        vertical-align: middle;\n",
       "    }\n",
       "\n",
       "    .dataframe tbody tr th {\n",
       "        vertical-align: top;\n",
       "    }\n",
       "\n",
       "    .dataframe thead th {\n",
       "        text-align: right;\n",
       "    }\n",
       "</style>\n",
       "<table border=\"1\" class=\"dataframe\">\n",
       "  <thead>\n",
       "    <tr style=\"text-align: right;\">\n",
       "      <th></th>\n",
       "      <th>обр. 19-038</th>\n",
       "      <th>обр. 21-040</th>\n",
       "      <th>обр. 13-130</th>\n",
       "      <th>обр. 3-130</th>\n",
       "      <th>обр. 60-018</th>\n",
       "      <th>обр. 87-140</th>\n",
       "      <th>обр. 2-145</th>\n",
       "      <th>обр. 114-024</th>\n",
       "      <th>обр. 22-100</th>\n",
       "      <th>обр. 55-072</th>\n",
       "    </tr>\n",
       "    <tr>\n",
       "      <th>номер зерна</th>\n",
       "      <th></th>\n",
       "      <th></th>\n",
       "      <th></th>\n",
       "      <th></th>\n",
       "      <th></th>\n",
       "      <th></th>\n",
       "      <th></th>\n",
       "      <th></th>\n",
       "      <th></th>\n",
       "      <th></th>\n",
       "    </tr>\n",
       "  </thead>\n",
       "  <tbody>\n",
       "    <tr>\n",
       "      <th>1</th>\n",
       "      <td>104.67800</td>\n",
       "      <td>48.0578</td>\n",
       "      <td>67.3294</td>\n",
       "      <td>54.4552</td>\n",
       "      <td>143.4780</td>\n",
       "      <td>143.4780</td>\n",
       "      <td>108.2040</td>\n",
       "      <td>91.1866</td>\n",
       "      <td>128.5930</td>\n",
       "      <td>46.0446</td>\n",
       "    </tr>\n",
       "    <tr>\n",
       "      <th>2</th>\n",
       "      <td>149.19900</td>\n",
       "      <td>62.3354</td>\n",
       "      <td>46.8140</td>\n",
       "      <td>75.2453</td>\n",
       "      <td>215.7790</td>\n",
       "      <td>215.7790</td>\n",
       "      <td>56.4419</td>\n",
       "      <td>63.4982</td>\n",
       "      <td>106.0100</td>\n",
       "      <td>56.0652</td>\n",
       "    </tr>\n",
       "    <tr>\n",
       "      <th>3</th>\n",
       "      <td>52.80050</td>\n",
       "      <td>126.1880</td>\n",
       "      <td>74.4812</td>\n",
       "      <td>42.9082</td>\n",
       "      <td>109.3230</td>\n",
       "      <td>109.3230</td>\n",
       "      <td>88.4536</td>\n",
       "      <td>81.4464</td>\n",
       "      <td>53.5022</td>\n",
       "      <td>69.4399</td>\n",
       "    </tr>\n",
       "    <tr>\n",
       "      <th>4</th>\n",
       "      <td>65.12420</td>\n",
       "      <td>143.2550</td>\n",
       "      <td>104.7500</td>\n",
       "      <td>39.2498</td>\n",
       "      <td>62.4635</td>\n",
       "      <td>62.4635</td>\n",
       "      <td>75.5978</td>\n",
       "      <td>48.6672</td>\n",
       "      <td>66.7542</td>\n",
       "      <td>107.5500</td>\n",
       "    </tr>\n",
       "    <tr>\n",
       "      <th>5</th>\n",
       "      <td>109.29300</td>\n",
       "      <td>70.3980</td>\n",
       "      <td>135.9650</td>\n",
       "      <td>94.3063</td>\n",
       "      <td>159.6760</td>\n",
       "      <td>159.6760</td>\n",
       "      <td>88.5974</td>\n",
       "      <td>21.6968</td>\n",
       "      <td>62.1816</td>\n",
       "      <td>45.6423</td>\n",
       "    </tr>\n",
       "    <tr>\n",
       "      <th>...</th>\n",
       "      <td>...</td>\n",
       "      <td>...</td>\n",
       "      <td>...</td>\n",
       "      <td>...</td>\n",
       "      <td>...</td>\n",
       "      <td>...</td>\n",
       "      <td>...</td>\n",
       "      <td>...</td>\n",
       "      <td>...</td>\n",
       "      <td>...</td>\n",
       "    </tr>\n",
       "    <tr>\n",
       "      <th>11796</th>\n",
       "      <td>3.07777</td>\n",
       "      <td>NaN</td>\n",
       "      <td>NaN</td>\n",
       "      <td>NaN</td>\n",
       "      <td>NaN</td>\n",
       "      <td>NaN</td>\n",
       "      <td>NaN</td>\n",
       "      <td>NaN</td>\n",
       "      <td>NaN</td>\n",
       "      <td>NaN</td>\n",
       "    </tr>\n",
       "    <tr>\n",
       "      <th>11797</th>\n",
       "      <td>3.38752</td>\n",
       "      <td>NaN</td>\n",
       "      <td>NaN</td>\n",
       "      <td>NaN</td>\n",
       "      <td>NaN</td>\n",
       "      <td>NaN</td>\n",
       "      <td>NaN</td>\n",
       "      <td>NaN</td>\n",
       "      <td>NaN</td>\n",
       "      <td>NaN</td>\n",
       "    </tr>\n",
       "    <tr>\n",
       "      <th>11798</th>\n",
       "      <td>4.26801</td>\n",
       "      <td>NaN</td>\n",
       "      <td>NaN</td>\n",
       "      <td>NaN</td>\n",
       "      <td>NaN</td>\n",
       "      <td>NaN</td>\n",
       "      <td>NaN</td>\n",
       "      <td>NaN</td>\n",
       "      <td>NaN</td>\n",
       "      <td>NaN</td>\n",
       "    </tr>\n",
       "    <tr>\n",
       "      <th>11799</th>\n",
       "      <td>4.74599</td>\n",
       "      <td>NaN</td>\n",
       "      <td>NaN</td>\n",
       "      <td>NaN</td>\n",
       "      <td>NaN</td>\n",
       "      <td>NaN</td>\n",
       "      <td>NaN</td>\n",
       "      <td>NaN</td>\n",
       "      <td>NaN</td>\n",
       "      <td>NaN</td>\n",
       "    </tr>\n",
       "    <tr>\n",
       "      <th>11800</th>\n",
       "      <td>3.87775</td>\n",
       "      <td>NaN</td>\n",
       "      <td>NaN</td>\n",
       "      <td>NaN</td>\n",
       "      <td>NaN</td>\n",
       "      <td>NaN</td>\n",
       "      <td>NaN</td>\n",
       "      <td>NaN</td>\n",
       "      <td>NaN</td>\n",
       "      <td>NaN</td>\n",
       "    </tr>\n",
       "  </tbody>\n",
       "</table>\n",
       "<p>11800 rows × 10 columns</p>\n",
       "</div>"
      ],
      "text/plain": [
       "             обр. 19-038  обр. 21-040  обр. 13-130  обр. 3-130  обр. 60-018  \\\n",
       "номер зерна                                                                   \n",
       "1              104.67800      48.0578      67.3294     54.4552     143.4780   \n",
       "2              149.19900      62.3354      46.8140     75.2453     215.7790   \n",
       "3               52.80050     126.1880      74.4812     42.9082     109.3230   \n",
       "4               65.12420     143.2550     104.7500     39.2498      62.4635   \n",
       "5              109.29300      70.3980     135.9650     94.3063     159.6760   \n",
       "...                  ...          ...          ...         ...          ...   \n",
       "11796            3.07777          NaN          NaN         NaN          NaN   \n",
       "11797            3.38752          NaN          NaN         NaN          NaN   \n",
       "11798            4.26801          NaN          NaN         NaN          NaN   \n",
       "11799            4.74599          NaN          NaN         NaN          NaN   \n",
       "11800            3.87775          NaN          NaN         NaN          NaN   \n",
       "\n",
       "             обр. 87-140  обр. 2-145  обр. 114-024  обр. 22-100  обр. 55-072  \n",
       "номер зерна                                                                   \n",
       "1               143.4780    108.2040       91.1866     128.5930      46.0446  \n",
       "2               215.7790     56.4419       63.4982     106.0100      56.0652  \n",
       "3               109.3230     88.4536       81.4464      53.5022      69.4399  \n",
       "4                62.4635     75.5978       48.6672      66.7542     107.5500  \n",
       "5               159.6760     88.5974       21.6968      62.1816      45.6423  \n",
       "...                  ...         ...           ...          ...          ...  \n",
       "11796                NaN         NaN           NaN          NaN          NaN  \n",
       "11797                NaN         NaN           NaN          NaN          NaN  \n",
       "11798                NaN         NaN           NaN          NaN          NaN  \n",
       "11799                NaN         NaN           NaN          NaN          NaN  \n",
       "11800                NaN         NaN           NaN          NaN          NaN  \n",
       "\n",
       "[11800 rows x 10 columns]"
      ]
     },
     "execution_count": 10,
     "metadata": {},
     "output_type": "execute_result"
    }
   ],
   "source": [
    "lab = pd.read_csv('C:\\\\Users\\\\albin\\\\Anakonda\\\\ekv_diam_1 (2).csv', sep=';', index_col=0)\n",
    "lab\n",
    "# значения в мкм\n"
   ]
  },
  {
   "cell_type": "markdown",
   "id": "55541282",
   "metadata": {},
   "source": [
    "Добавим данные в список, чтобы построить гистограммы распределения и сделать вывод о сортировке <b>цифровых двойников</b> образцов.\n",
    "Загрузим данные в список, чтобы дальше построить гистограммы распределения зерен по размеру."
   ]
  },
  {
   "cell_type": "code",
   "execution_count": 11,
   "id": "c9db0f90",
   "metadata": {},
   "outputs": [
    {
     "data": {
      "text/plain": [
       "[номер зерна\n",
       " 1        104.67800\n",
       " 2        149.19900\n",
       " 3         52.80050\n",
       " 4         65.12420\n",
       " 5        109.29300\n",
       "            ...    \n",
       " 11796      3.07777\n",
       " 11797      3.38752\n",
       " 11798      4.26801\n",
       " 11799      4.74599\n",
       " 11800      3.87775\n",
       " Name: обр. 19-038, Length: 11800, dtype: float64,\n",
       " номер зерна\n",
       " 1       48.05780\n",
       " 2       62.33540\n",
       " 3      126.18800\n",
       " 4      143.25500\n",
       " 5       70.39800\n",
       "          ...    \n",
       " 881    102.19200\n",
       " 882      5.79258\n",
       " 883      2.68868\n",
       " 884      3.07777\n",
       " 885      2.68868\n",
       " Name: обр. 21-040, Length: 885, dtype: float64,\n",
       " номер зерна\n",
       " 1        67.32940\n",
       " 2        46.81400\n",
       " 3        74.48120\n",
       " 4       104.75000\n",
       " 5       135.96500\n",
       "           ...    \n",
       " 1103     50.06540\n",
       " 1104     72.79910\n",
       " 1105     81.46050\n",
       " 1106      2.13401\n",
       " 1107      2.68868\n",
       " Name: обр. 13-130, Length: 1107, dtype: float64,\n",
       " номер зерна\n",
       " 1      54.45520\n",
       " 2      75.24530\n",
       " 3      42.90820\n",
       " 4      39.24980\n",
       " 5      94.30630\n",
       "          ...   \n",
       " 479     2.59463\n",
       " 480     3.74211\n",
       " 481     6.35116\n",
       " 482     2.26662\n",
       " 483     2.59463\n",
       " Name: обр. 3-130, Length: 483, dtype: float64,\n",
       " номер зерна\n",
       " 1      143.47800\n",
       " 2      215.77900\n",
       " 3      109.32300\n",
       " 4       62.46350\n",
       " 5      159.67600\n",
       "          ...    \n",
       " 215     23.87860\n",
       " 216      4.08221\n",
       " 217      3.87775\n",
       " 218      5.26291\n",
       " 219      2.13401\n",
       " Name: обр. 60-018, Length: 219, dtype: float64,\n",
       " номер зерна\n",
       " 1      143.47800\n",
       " 2      215.77900\n",
       " 3      109.32300\n",
       " 4       62.46350\n",
       " 5      159.67600\n",
       "          ...    \n",
       " 215     23.87860\n",
       " 216      4.08221\n",
       " 217      3.87775\n",
       " 218      5.26291\n",
       " 219      2.13401\n",
       " Name: обр. 87-140, Length: 219, dtype: float64,\n",
       " номер зерна\n",
       " 1      108.20400\n",
       " 2       56.44190\n",
       " 3       88.45360\n",
       " 4       75.59780\n",
       " 5       88.59740\n",
       "          ...    \n",
       " 640      5.37736\n",
       " 641      3.87775\n",
       " 642      3.07777\n",
       " 643      2.13401\n",
       " 644      4.59758\n",
       " Name: обр. 2-145, Length: 644, dtype: float64,\n",
       " номер зерна\n",
       " 1       91.18660\n",
       " 2       63.49820\n",
       " 3       81.44640\n",
       " 4       48.66720\n",
       " 5       21.69680\n",
       "          ...    \n",
       " 947      2.13401\n",
       " 948    140.70500\n",
       " 949      2.13401\n",
       " 950      2.68868\n",
       " 951      3.64910\n",
       " Name: обр. 114-024, Length: 951, dtype: float64,\n",
       " номер зерна\n",
       " 1      128.59300\n",
       " 2      106.01000\n",
       " 3       53.50220\n",
       " 4       66.75420\n",
       " 5       62.18160\n",
       "          ...    \n",
       " 561      2.13401\n",
       " 562     11.41370\n",
       " 563      3.38752\n",
       " 564      5.48713\n",
       " 565      4.08221\n",
       " Name: обр. 22-100, Length: 565, dtype: float64,\n",
       " номер зерна\n",
       " 1        46.04460\n",
       " 2        56.06520\n",
       " 3        69.43990\n",
       " 4       107.55000\n",
       " 5        45.64230\n",
       "           ...    \n",
       " 1421      2.68868\n",
       " 1422      2.68868\n",
       " 1423      2.13401\n",
       " 1424      2.13401\n",
       " 1425      3.38752\n",
       " Name: обр. 55-072, Length: 1425, dtype: float64]"
      ]
     },
     "execution_count": 11,
     "metadata": {},
     "output_type": "execute_result"
    }
   ],
   "source": [
    "lab_col=lab.columns\n",
    "lab_sp=[]\n",
    "for i in lab_col:\n",
    "    lab_sp.append(lab[i].dropna())\n",
    "    \n",
    "lab_sp"
   ]
  },
  {
   "cell_type": "code",
   "execution_count": 12,
   "id": "089dd5d0",
   "metadata": {
    "scrolled": true
   },
   "outputs": [
    {
     "data": {
      "text/plain": [
       "<matplotlib.legend.Legend at 0x298dd284700>"
      ]
     },
     "execution_count": 12,
     "metadata": {},
     "output_type": "execute_result"
    },
    {
     "data": {
      "image/png": "[encoded data removed]",
      "text/plain": [
       "<Figure size 432x288 with 1 Axes>"
      ]
     },
     "metadata": {
      "needs_background": "light"
     },
     "output_type": "display_data"
    }
   ],
   "source": [
    "sns.kdeplot(data=lab_sp[1],clip=(0.0, 250.0))\n",
    "sns.kdeplot(data=lab_sp[2],clip=(0.0, 250.0))\n",
    "sns.kdeplot(data=lab_sp[3],clip=(0.0, 250.0))\n",
    "sns.kdeplot(data=lab_sp[4],clip=(0.0, 250.0))\n",
    "plt.legend(lab_col)"
   ]
  },
  {
   "cell_type": "markdown",
   "id": "f98bab6b",
   "metadata": {},
   "source": [
    "Для сопоставления определения стандартного отклонения с помощью лабораторного и цифрового метода я отобрала образцы, у которых есть и лабораторные данные, и томографические стеки. По кривым распределения можно сказать, что у данной коллекции преобладает хорошая сортировка зёрен."
   ]
  },
  {
   "cell_type": "markdown",
   "id": "c4a16bdb",
   "metadata": {},
   "source": [
    "Посчитаем стандартное отклонение для каждого цифрового двойника функцией .std() и подгрузим значения стандартных отклонений, полученные с обработки лабораторных образцов."
   ]
  },
  {
   "cell_type": "code",
   "execution_count": 56,
   "id": "2d76da1c",
   "metadata": {
    "scrolled": true
   },
   "outputs": [
    {
     "data": {
      "text/html": [
       "<div>\n",
       "<style scoped>\n",
       "    .dataframe tbody tr th:only-of-type {\n",
       "        vertical-align: middle;\n",
       "    }\n",
       "\n",
       "    .dataframe tbody tr th {\n",
       "        vertical-align: top;\n",
       "    }\n",
       "\n",
       "    .dataframe thead th {\n",
       "        text-align: right;\n",
       "    }\n",
       "</style>\n",
       "<table border=\"1\" class=\"dataframe\">\n",
       "  <thead>\n",
       "    <tr style=\"text-align: right;\">\n",
       "      <th></th>\n",
       "      <th>St_otkl_lab</th>\n",
       "      <th>St_otkl_cifra</th>\n",
       "    </tr>\n",
       "  </thead>\n",
       "  <tbody>\n",
       "    <tr>\n",
       "      <th>обр. 19-038</th>\n",
       "      <td>30.195518</td>\n",
       "      <td>28.9</td>\n",
       "    </tr>\n",
       "    <tr>\n",
       "      <th>обр. 21-040</th>\n",
       "      <td>48.401966</td>\n",
       "      <td>46.4</td>\n",
       "    </tr>\n",
       "    <tr>\n",
       "      <th>обр. 13-130</th>\n",
       "      <td>38.995810</td>\n",
       "      <td>35.4</td>\n",
       "    </tr>\n",
       "    <tr>\n",
       "      <th>обр. 3-130</th>\n",
       "      <td>37.261048</td>\n",
       "      <td>36.5</td>\n",
       "    </tr>\n",
       "    <tr>\n",
       "      <th>обр. 60-018</th>\n",
       "      <td>48.699290</td>\n",
       "      <td>37.5</td>\n",
       "    </tr>\n",
       "    <tr>\n",
       "      <th>обр. 87-140</th>\n",
       "      <td>48.699290</td>\n",
       "      <td>37.0</td>\n",
       "    </tr>\n",
       "    <tr>\n",
       "      <th>обр. 2-145</th>\n",
       "      <td>41.542017</td>\n",
       "      <td>38.8</td>\n",
       "    </tr>\n",
       "    <tr>\n",
       "      <th>обр. 114-024</th>\n",
       "      <td>59.073240</td>\n",
       "      <td>56.4</td>\n",
       "    </tr>\n",
       "    <tr>\n",
       "      <th>обр. 22-100</th>\n",
       "      <td>42.589816</td>\n",
       "      <td>38.6</td>\n",
       "    </tr>\n",
       "    <tr>\n",
       "      <th>обр. 55-072</th>\n",
       "      <td>50.618316</td>\n",
       "      <td>47.1</td>\n",
       "    </tr>\n",
       "  </tbody>\n",
       "</table>\n",
       "</div>"
      ],
      "text/plain": [
       "              St_otkl_lab  St_otkl_cifra\n",
       "обр. 19-038     30.195518           28.9\n",
       "обр. 21-040     48.401966           46.4\n",
       "обр. 13-130     38.995810           35.4\n",
       "обр. 3-130      37.261048           36.5\n",
       "обр. 60-018     48.699290           37.5\n",
       "обр. 87-140     48.699290           37.0\n",
       "обр. 2-145      41.542017           38.8\n",
       "обр. 114-024    59.073240           56.4\n",
       "обр. 22-100     42.589816           38.6\n",
       "обр. 55-072     50.618316           47.1"
      ]
     },
     "execution_count": 56,
     "metadata": {},
     "output_type": "execute_result"
    }
   ],
   "source": [
    "lab_std = lab.std() # считаем стандартное отклонение\n",
    "dframe = pd.DataFrame(lab_std)\n",
    "dframe[1]=[28.9, 46.4, 35.4, 36.5, 37.5, 37.0, 38.8, 56.4, 38.6, 47.1] # подгружаем лабораторные данные\n",
    "dframe.columns = ['St_otkl_lab', 'St_otkl_cifra']  # стандартное отклонение в мкм\n",
    "dframe"
   ]
  },
  {
   "cell_type": "markdown",
   "id": "72641054",
   "metadata": {},
   "source": [
    "Посмотрим их взаимосвязь через линейную регрессию"
   ]
  },
  {
   "cell_type": "code",
   "execution_count": 59,
   "id": "55ca4054",
   "metadata": {
    "scrolled": true
   },
   "outputs": [
    {
     "data": {
      "text/plain": [
       "Text(0, 0.5, 'Станд. отклонение цифровое')"
      ]
     },
     "execution_count": 59,
     "metadata": {},
     "output_type": "execute_result"
    },
    {
     "data": {
      "image/png": "[encoded data removed]",
      "text/plain": [
       "<Figure size 432x288 with 1 Axes>"
      ]
     },
     "metadata": {
      "needs_background": "light"
     },
     "output_type": "display_data"
    }
   ],
   "source": [
    "plt.scatter(x=dframe['St_otkl_lab'], y=dframe['St_otkl_cifra'])\n",
    "sns.regplot(x=dframe['St_otkl_lab'], y=dframe['St_otkl_cifra'], data=dframe) \n",
    "plt.xlabel('Станд. отклонение лабораторное')\n",
    "plt.ylabel('Станд. отклонение цифровое')\n",
    "# голубая область - доверительный интервал"
   ]
  },
  {
   "cell_type": "code",
   "execution_count": 15,
   "id": "a2c9c9a9",
   "metadata": {},
   "outputs": [
    {
     "data": {
      "text/plain": [
       "0.4591571395280363"
      ]
     },
     "execution_count": 15,
     "metadata": {},
     "output_type": "execute_result"
    }
   ],
   "source": [
    "from sklearn.metrics import r2_score\n",
    "r2_score(dframe['St_otkl_lab'], dframe['St_otkl_cifra'])"
   ]
  },
  {
   "cell_type": "markdown",
   "id": "4963a6e8",
   "metadata": {},
   "source": [
    "Коэффициент детерминации показывает, что сходимость полученных значений маленькая, наблюдаются выбросы. Однако, в целом, тренд сохраняется. Понять причину такой низкой сходимости - отдельная задача, которая требует самостоятельного проведения как лабораторного анализа (зерна можно слишком сильно перетереть или, наоборот, недотереть, можно потерять несколько граммов навески при фракционном анализе, неправильно взвешивать фракции и т.д. - причин такой погрешности очень много), так и более точного разбиения на зерна цифровой модели."
   ]
  },
  {
   "cell_type": "markdown",
   "id": "295ce381",
   "metadata": {},
   "source": [
    "# Обработка результатов петрофизических исследований"
   ]
  },
  {
   "cell_type": "code",
   "execution_count": 16,
   "id": "73e4cf36",
   "metadata": {
    "scrolled": true
   },
   "outputs": [
    {
     "data": {
      "text/html": [
       "<div>\n",
       "<style scoped>\n",
       "    .dataframe tbody tr th:only-of-type {\n",
       "        vertical-align: middle;\n",
       "    }\n",
       "\n",
       "    .dataframe tbody tr th {\n",
       "        vertical-align: top;\n",
       "    }\n",
       "\n",
       "    .dataframe thead th {\n",
       "        text-align: right;\n",
       "    }\n",
       "</style>\n",
       "<table border=\"1\" class=\"dataframe\">\n",
       "  <thead>\n",
       "    <tr style=\"text-align: right;\">\n",
       "      <th></th>\n",
       "      <th>Длина</th>\n",
       "      <th>Диаметр</th>\n",
       "      <th>Vобр</th>\n",
       "      <th>Масса, г</th>\n",
       "      <th>Давление</th>\n",
       "      <th>Vпор</th>\n",
       "      <th>Кп, мД</th>\n",
       "      <th>Кпр, мД</th>\n",
       "      <th>rhob_объемная, r/см3</th>\n",
       "      <th>rhob_мин, г/см3</th>\n",
       "    </tr>\n",
       "    <tr>\n",
       "      <th>Номер образца</th>\n",
       "      <th></th>\n",
       "      <th></th>\n",
       "      <th></th>\n",
       "      <th></th>\n",
       "      <th></th>\n",
       "      <th></th>\n",
       "      <th></th>\n",
       "      <th></th>\n",
       "      <th></th>\n",
       "      <th></th>\n",
       "    </tr>\n",
       "  </thead>\n",
       "  <tbody>\n",
       "    <tr>\n",
       "      <th>2108</th>\n",
       "      <td>3.037</td>\n",
       "      <td>3.015</td>\n",
       "      <td>21.680</td>\n",
       "      <td>50.791</td>\n",
       "      <td>501.0</td>\n",
       "      <td>3.036</td>\n",
       "      <td>14.002</td>\n",
       "      <td>0.555</td>\n",
       "      <td>2.342558</td>\n",
       "      <td>2.723967</td>\n",
       "    </tr>\n",
       "    <tr>\n",
       "      <th>2110</th>\n",
       "      <td>3.037</td>\n",
       "      <td>3.014</td>\n",
       "      <td>21.661</td>\n",
       "      <td>48.712</td>\n",
       "      <td>499.1</td>\n",
       "      <td>3.160</td>\n",
       "      <td>14.587</td>\n",
       "      <td>35.951</td>\n",
       "      <td>2.248162</td>\n",
       "      <td>2.632108</td>\n",
       "    </tr>\n",
       "    <tr>\n",
       "      <th>2111</th>\n",
       "      <td>3.039</td>\n",
       "      <td>3.020</td>\n",
       "      <td>21.762</td>\n",
       "      <td>49.449</td>\n",
       "      <td>494.2</td>\n",
       "      <td>2.987</td>\n",
       "      <td>13.724</td>\n",
       "      <td>1.221</td>\n",
       "      <td>2.271621</td>\n",
       "      <td>2.632970</td>\n",
       "    </tr>\n",
       "    <tr>\n",
       "      <th>2113</th>\n",
       "      <td>3.030</td>\n",
       "      <td>3.035</td>\n",
       "      <td>21.920</td>\n",
       "      <td>50.384</td>\n",
       "      <td>493.9</td>\n",
       "      <td>2.733</td>\n",
       "      <td>12.466</td>\n",
       "      <td>0.585</td>\n",
       "      <td>2.298558</td>\n",
       "      <td>2.625904</td>\n",
       "    </tr>\n",
       "    <tr>\n",
       "      <th>2115</th>\n",
       "      <td>3.048</td>\n",
       "      <td>3.020</td>\n",
       "      <td>21.833</td>\n",
       "      <td>50.054</td>\n",
       "      <td>484.1</td>\n",
       "      <td>2.765</td>\n",
       "      <td>12.666</td>\n",
       "      <td>0.296</td>\n",
       "      <td>2.292624</td>\n",
       "      <td>2.625122</td>\n",
       "    </tr>\n",
       "  </tbody>\n",
       "</table>\n",
       "</div>"
      ],
      "text/plain": [
       "               Длина  Диаметр    Vобр  Масса, г  Давление   Vпор  Кп, мД  \\\n",
       "Номер образца                                                              \n",
       "2108           3.037    3.015  21.680    50.791     501.0  3.036  14.002   \n",
       "2110           3.037    3.014  21.661    48.712     499.1  3.160  14.587   \n",
       "2111           3.039    3.020  21.762    49.449     494.2  2.987  13.724   \n",
       "2113           3.030    3.035  21.920    50.384     493.9  2.733  12.466   \n",
       "2115           3.048    3.020  21.833    50.054     484.1  2.765  12.666   \n",
       "\n",
       "               Кпр, мД  rhob_объемная, r/см3  rhob_мин, г/см3  \n",
       "Номер образца                                                  \n",
       "2108             0.555              2.342558         2.723967  \n",
       "2110            35.951              2.248162         2.632108  \n",
       "2111             1.221              2.271621         2.632970  \n",
       "2113             0.585              2.298558         2.625904  \n",
       "2115             0.296              2.292624         2.625122  "
      ]
     },
     "execution_count": 16,
     "metadata": {},
     "output_type": "execute_result"
    }
   ],
   "source": [
    "pet=pd.read_csv('C:\\\\Users\\\\albin\\\\Anakonda\\\\petrophysics.csv', sep=';', index_col=0)\n",
    "pet.head()"
   ]
  },
  {
   "cell_type": "markdown",
   "id": "032685d2",
   "metadata": {},
   "source": [
    "Посмотрим разброс значений по каждому параметру: максимальные и минимальные значения:"
   ]
  },
  {
   "cell_type": "code",
   "execution_count": 17,
   "id": "a403a246",
   "metadata": {
    "scrolled": true
   },
   "outputs": [
    {
     "name": "stdout",
     "output_type": "stream",
     "text": [
      "Длина                      3.350000\n",
      "Диаметр                    3.400000\n",
      "Vобр                      29.144000\n",
      "Масса, г                  59.579000\n",
      "Давление                 522.600000\n",
      "Vпор                       5.511000\n",
      "Кп, мД                    24.920000\n",
      "Кпр, мД                 1305.302000\n",
      "rhob_объемная, r/см3       2.892168\n",
      "rhob_мин, г/см3            3.252772\n",
      "dtype: float64\n",
      "______________\n",
      "Длина                     2.921000\n",
      "Диаметр                   2.922000\n",
      "Vобр                     20.245000\n",
      "Масса, г                 40.839000\n",
      "Давление                453.100000\n",
      "Vпор                      0.069000\n",
      "Кп, мД                    0.313000\n",
      "Кпр, мД                   0.016000\n",
      "rhob_объемная, r/см3      1.639892\n",
      "rhob_мин, г/см3           1.879640\n",
      "dtype: float64\n"
     ]
    }
   ],
   "source": [
    "max_val = pet.max()\n",
    "print(max_val)\n",
    "print('______________')\n",
    "min_val = pet.min()\n",
    "print(min_val)"
   ]
  },
  {
   "cell_type": "markdown",
   "id": "0c6610c1",
   "metadata": {},
   "source": [
    "Так как все параметры имеют разный диапазон значений, их необходимо нормализовать для того, чтобы потом их можно было сравнивать между собой и использовать для расчёта схожести объектов.\n",
    "Нормализация проходит по формуле через максимальное и минимальное значение:\n",
    "\n",
    "$\n",
    "x_{norm} = \\frac{x-x_{min}}{x_{max}-x_{min}}\n",
    "$\n",
    "\n",
    "Нормализация данных не происходит с помощью стандартизации, так как у функций вид распределения не соответствует нормальному (самый типичный пример - коэффициент проницаемости), поэтому результат при таком методе испортит данные."
   ]
  },
  {
   "cell_type": "code",
   "execution_count": 18,
   "id": "5489204c",
   "metadata": {
    "scrolled": true
   },
   "outputs": [
    {
     "data": {
      "text/html": [
       "<div>\n",
       "<style scoped>\n",
       "    .dataframe tbody tr th:only-of-type {\n",
       "        vertical-align: middle;\n",
       "    }\n",
       "\n",
       "    .dataframe tbody tr th {\n",
       "        vertical-align: top;\n",
       "    }\n",
       "\n",
       "    .dataframe thead th {\n",
       "        text-align: right;\n",
       "    }\n",
       "</style>\n",
       "<table border=\"1\" class=\"dataframe\">\n",
       "  <thead>\n",
       "    <tr style=\"text-align: right;\">\n",
       "      <th></th>\n",
       "      <th>Длина</th>\n",
       "      <th>Диаметр</th>\n",
       "      <th>Vобр</th>\n",
       "      <th>Масса, г</th>\n",
       "      <th>Давление</th>\n",
       "      <th>Vпор</th>\n",
       "      <th>Кп, мД</th>\n",
       "      <th>Кпр, мД</th>\n",
       "      <th>rhob_объемная, r/см3</th>\n",
       "      <th>rhob_мин, г/см3</th>\n",
       "    </tr>\n",
       "    <tr>\n",
       "      <th>Номер образца</th>\n",
       "      <th></th>\n",
       "      <th></th>\n",
       "      <th></th>\n",
       "      <th></th>\n",
       "      <th></th>\n",
       "      <th></th>\n",
       "      <th></th>\n",
       "      <th></th>\n",
       "      <th></th>\n",
       "      <th></th>\n",
       "    </tr>\n",
       "  </thead>\n",
       "  <tbody>\n",
       "    <tr>\n",
       "      <th>2108</th>\n",
       "      <td>0.270396</td>\n",
       "      <td>0.194561</td>\n",
       "      <td>0.161254</td>\n",
       "      <td>0.531057</td>\n",
       "      <td>0.689209</td>\n",
       "      <td>0.545204</td>\n",
       "      <td>0.556305</td>\n",
       "      <td>0.000413</td>\n",
       "      <td>0.561111</td>\n",
       "      <td>0.614892</td>\n",
       "    </tr>\n",
       "    <tr>\n",
       "      <th>2110</th>\n",
       "      <td>0.270396</td>\n",
       "      <td>0.192469</td>\n",
       "      <td>0.159119</td>\n",
       "      <td>0.420117</td>\n",
       "      <td>0.661871</td>\n",
       "      <td>0.567990</td>\n",
       "      <td>0.580079</td>\n",
       "      <td>0.027530</td>\n",
       "      <td>0.485732</td>\n",
       "      <td>0.547994</td>\n",
       "    </tr>\n",
       "    <tr>\n",
       "      <th>2111</th>\n",
       "      <td>0.275058</td>\n",
       "      <td>0.205021</td>\n",
       "      <td>0.170469</td>\n",
       "      <td>0.459445</td>\n",
       "      <td>0.591367</td>\n",
       "      <td>0.536200</td>\n",
       "      <td>0.545008</td>\n",
       "      <td>0.000923</td>\n",
       "      <td>0.504465</td>\n",
       "      <td>0.548621</td>\n",
       "    </tr>\n",
       "    <tr>\n",
       "      <th>2113</th>\n",
       "      <td>0.254079</td>\n",
       "      <td>0.236402</td>\n",
       "      <td>0.188223</td>\n",
       "      <td>0.509338</td>\n",
       "      <td>0.587050</td>\n",
       "      <td>0.489526</td>\n",
       "      <td>0.493884</td>\n",
       "      <td>0.000436</td>\n",
       "      <td>0.525976</td>\n",
       "      <td>0.543476</td>\n",
       "    </tr>\n",
       "    <tr>\n",
       "      <th>2115</th>\n",
       "      <td>0.296037</td>\n",
       "      <td>0.205021</td>\n",
       "      <td>0.178447</td>\n",
       "      <td>0.491729</td>\n",
       "      <td>0.446043</td>\n",
       "      <td>0.495406</td>\n",
       "      <td>0.502012</td>\n",
       "      <td>0.000215</td>\n",
       "      <td>0.521237</td>\n",
       "      <td>0.542906</td>\n",
       "    </tr>\n",
       "    <tr>\n",
       "      <th>...</th>\n",
       "      <td>...</td>\n",
       "      <td>...</td>\n",
       "      <td>...</td>\n",
       "      <td>...</td>\n",
       "      <td>...</td>\n",
       "      <td>...</td>\n",
       "      <td>...</td>\n",
       "      <td>...</td>\n",
       "      <td>...</td>\n",
       "      <td>...</td>\n",
       "    </tr>\n",
       "    <tr>\n",
       "      <th>2148</th>\n",
       "      <td>0.265734</td>\n",
       "      <td>0.194561</td>\n",
       "      <td>0.159906</td>\n",
       "      <td>0.451708</td>\n",
       "      <td>0.381295</td>\n",
       "      <td>0.620544</td>\n",
       "      <td>0.633478</td>\n",
       "      <td>0.000746</td>\n",
       "      <td>0.507541</td>\n",
       "      <td>0.601594</td>\n",
       "    </tr>\n",
       "    <tr>\n",
       "      <th>2184</th>\n",
       "      <td>0.272727</td>\n",
       "      <td>0.194561</td>\n",
       "      <td>0.162378</td>\n",
       "      <td>0.361846</td>\n",
       "      <td>0.477698</td>\n",
       "      <td>0.662073</td>\n",
       "      <td>0.675214</td>\n",
       "      <td>0.003713</td>\n",
       "      <td>0.443745</td>\n",
       "      <td>0.555918</td>\n",
       "    </tr>\n",
       "    <tr>\n",
       "      <th>2189</th>\n",
       "      <td>0.251748</td>\n",
       "      <td>0.188285</td>\n",
       "      <td>0.150242</td>\n",
       "      <td>0.466382</td>\n",
       "      <td>1.000000</td>\n",
       "      <td>0.503308</td>\n",
       "      <td>0.515951</td>\n",
       "      <td>0.000466</td>\n",
       "      <td>0.524944</td>\n",
       "      <td>0.554331</td>\n",
       "    </tr>\n",
       "    <tr>\n",
       "      <th>2296</th>\n",
       "      <td>0.263403</td>\n",
       "      <td>0.050209</td>\n",
       "      <td>0.048994</td>\n",
       "      <td>0.286553</td>\n",
       "      <td>0.523741</td>\n",
       "      <td>0.580853</td>\n",
       "      <td>0.622099</td>\n",
       "      <td>0.000581</td>\n",
       "      <td>0.474773</td>\n",
       "      <td>0.559639</td>\n",
       "    </tr>\n",
       "    <tr>\n",
       "      <th>2287</th>\n",
       "      <td>0.258741</td>\n",
       "      <td>0.215481</td>\n",
       "      <td>0.173727</td>\n",
       "      <td>0.301174</td>\n",
       "      <td>0.519424</td>\n",
       "      <td>0.728960</td>\n",
       "      <td>0.740033</td>\n",
       "      <td>0.016689</td>\n",
       "      <td>0.393951</td>\n",
       "      <td>0.537862</td>\n",
       "    </tr>\n",
       "  </tbody>\n",
       "</table>\n",
       "<p>225 rows × 10 columns</p>\n",
       "</div>"
      ],
      "text/plain": [
       "                  Длина   Диаметр      Vобр  Масса, г  Давление      Vпор  \\\n",
       "Номер образца                                                               \n",
       "2108           0.270396  0.194561  0.161254  0.531057  0.689209  0.545204   \n",
       "2110           0.270396  0.192469  0.159119  0.420117  0.661871  0.567990   \n",
       "2111           0.275058  0.205021  0.170469  0.459445  0.591367  0.536200   \n",
       "2113           0.254079  0.236402  0.188223  0.509338  0.587050  0.489526   \n",
       "2115           0.296037  0.205021  0.178447  0.491729  0.446043  0.495406   \n",
       "...                 ...       ...       ...       ...       ...       ...   \n",
       "2148           0.265734  0.194561  0.159906  0.451708  0.381295  0.620544   \n",
       "2184           0.272727  0.194561  0.162378  0.361846  0.477698  0.662073   \n",
       "2189           0.251748  0.188285  0.150242  0.466382  1.000000  0.503308   \n",
       "2296           0.263403  0.050209  0.048994  0.286553  0.523741  0.580853   \n",
       "2287           0.258741  0.215481  0.173727  0.301174  0.519424  0.728960   \n",
       "\n",
       "                 Кп, мД   Кпр, мД  rhob_объемная, r/см3  rhob_мин, г/см3  \n",
       "Номер образца                                                             \n",
       "2108           0.556305  0.000413              0.561111         0.614892  \n",
       "2110           0.580079  0.027530              0.485732         0.547994  \n",
       "2111           0.545008  0.000923              0.504465         0.548621  \n",
       "2113           0.493884  0.000436              0.525976         0.543476  \n",
       "2115           0.502012  0.000215              0.521237         0.542906  \n",
       "...                 ...       ...                   ...              ...  \n",
       "2148           0.633478  0.000746              0.507541         0.601594  \n",
       "2184           0.675214  0.003713              0.443745         0.555918  \n",
       "2189           0.515951  0.000466              0.524944         0.554331  \n",
       "2296           0.622099  0.000581              0.474773         0.559639  \n",
       "2287           0.740033  0.016689              0.393951         0.537862  \n",
       "\n",
       "[225 rows x 10 columns]"
      ]
     },
     "execution_count": 18,
     "metadata": {},
     "output_type": "execute_result"
    }
   ],
   "source": [
    "data_norm = (pet - min_val)/ (max_val - min_val)\n",
    "data_norm"
   ]
  },
  {
   "cell_type": "markdown",
   "id": "f7736739",
   "metadata": {},
   "source": [
    "Посмотрим попарную зависимость петрофизических параметров с помощью <b>коэффициента корреляции Пирсона</b>, который изменяется в интервале [-1;1]. Чем дальше коэффициент корреляции от 0, тем сильнее связь между двумя переменными. -1 показывает обратную зависимость переменных, 0 показывает полное отстутствие линейной корреляции между двумя переменными, 1 показывает полнуую линейную корреляцию между двумя переменными. \n",
    "<b>Коэффициент корреляции Пирсона</b>- это ковариация двух переменных, деленная на произведение их стандартных отклонений:\n",
    "$ \n",
    "w = \\frac{\\sum((x_i-\\overline{x})(y_i-\\overline{y})}{\\sqrt(\\sum(x_i-\\overline{x})^2\\sum(y_i-\\overline{y})^2)}\n",
    "$\n",
    "\n",
    "<b>Ковариация</b> - это мера совместной изменчивости двух величин: если большие значения одной переменной соответствуют большим значениям другой переменной и то же самое верно для меньших значений, то ковариация положительна. Показывает тенденцию линейной зависимости между переменными. Если между переменными нет связи, то ковариация равна 0. Измеряет только направление, но не силу взаимосвязи.\n",
    "\n",
    "<b>Корреляция</b>- это ковариация стандартизированных переменных. Деление на произведение стандартных отклонений нормализует коэффициент, благодаря чему можно сравнивать коэффициенты корреляции и смотреть степень взаимосвязи параметров."
   ]
  },
  {
   "cell_type": "code",
   "execution_count": 19,
   "id": "f0b8af1f",
   "metadata": {
    "scrolled": true
   },
   "outputs": [
    {
     "data": {
      "text/plain": [
       "<AxesSubplot:>"
      ]
     },
     "execution_count": 19,
     "metadata": {},
     "output_type": "execute_result"
    },
    {
     "data": {
      "image/png": "[encoded data removed]",
      "text/plain": [
       "<Figure size 720x432 with 2 Axes>"
      ]
     },
     "metadata": {
      "needs_background": "light"
     },
     "output_type": "display_data"
    }
   ],
   "source": [
    "plt.figure(figsize=(10,6))\n",
    "sns.heatmap(pet.corr(), vmin = -1, vmax = +1, annot = True, cmap = 'coolwarm')"
   ]
  },
  {
   "cell_type": "markdown",
   "id": "b1492bd2",
   "metadata": {},
   "source": [
    "Наблюдается высокая корреляция между минералогической плотностью и объёмом образца, коэффициентом пористости и объёмной плотностью. ИНТЕРЕСНО, что нет никакой зависимости между <b>коэффициентом пористости и минералогической плотностью</b>, так как в теории она есть: чем выше минералогическая плотность, тем больше твердой фазы в образце и тем меньше пустот в ней. В чем может быть проблема: минералогическую плотность получили методом насыщения пластовой водой, глинистые минералы набухли и значения плотности получились завышены, а пористость перед этим анализом измеряли газом, никакого взаимодействия с породой не было, и полученный коэффициент пористости получился более приближенным к реальности."
   ]
  },
  {
   "cell_type": "code",
   "execution_count": 20,
   "id": "5bee9b13",
   "metadata": {
    "scrolled": true
   },
   "outputs": [
    {
     "data": {
      "text/plain": [
       "<AxesSubplot:>"
      ]
     },
     "execution_count": 20,
     "metadata": {},
     "output_type": "execute_result"
    },
    {
     "data": {
      "image/png": "[encoded data removed]",
      "text/plain": [
       "<Figure size 720x432 with 2 Axes>"
      ]
     },
     "metadata": {
      "needs_background": "light"
     },
     "output_type": "display_data"
    }
   ],
   "source": [
    "plt.figure(figsize=(10,6))\n",
    "sns.heatmap(data_norm.corr(), vmin=-1, vmax=1, annot= True, cmap='coolwarm')"
   ]
  },
  {
   "cell_type": "markdown",
   "id": "b4475d0e",
   "metadata": {},
   "source": [
    "При нормировке данных зависимость между параметрами не поменялась, так как масштаб данных на значение коэффициент Пирсона не влияет."
   ]
  },
  {
   "cell_type": "markdown",
   "id": "eea34a34",
   "metadata": {},
   "source": [
    "Необходимо избавиться от сильно коррелирующих признаков, которые не информативны и которые для дальнейшей работы бесполезны: длина, диаметр и масса, давление."
   ]
  },
  {
   "cell_type": "code",
   "execution_count": 21,
   "id": "1918e0af",
   "metadata": {},
   "outputs": [
    {
     "data": {
      "text/html": [
       "<div>\n",
       "<style scoped>\n",
       "    .dataframe tbody tr th:only-of-type {\n",
       "        vertical-align: middle;\n",
       "    }\n",
       "\n",
       "    .dataframe tbody tr th {\n",
       "        vertical-align: top;\n",
       "    }\n",
       "\n",
       "    .dataframe thead th {\n",
       "        text-align: right;\n",
       "    }\n",
       "</style>\n",
       "<table border=\"1\" class=\"dataframe\">\n",
       "  <thead>\n",
       "    <tr style=\"text-align: right;\">\n",
       "      <th></th>\n",
       "      <th>Vобр</th>\n",
       "      <th>Vпор</th>\n",
       "      <th>Кп, мД</th>\n",
       "      <th>Кпр, мД</th>\n",
       "      <th>rhob_объемная, r/см3</th>\n",
       "      <th>rhob_мин, г/см3</th>\n",
       "    </tr>\n",
       "    <tr>\n",
       "      <th>Номер образца</th>\n",
       "      <th></th>\n",
       "      <th></th>\n",
       "      <th></th>\n",
       "      <th></th>\n",
       "      <th></th>\n",
       "      <th></th>\n",
       "    </tr>\n",
       "  </thead>\n",
       "  <tbody>\n",
       "    <tr>\n",
       "      <th>2108</th>\n",
       "      <td>0.161254</td>\n",
       "      <td>0.545204</td>\n",
       "      <td>0.556305</td>\n",
       "      <td>0.000413</td>\n",
       "      <td>0.561111</td>\n",
       "      <td>0.614892</td>\n",
       "    </tr>\n",
       "    <tr>\n",
       "      <th>2110</th>\n",
       "      <td>0.159119</td>\n",
       "      <td>0.567990</td>\n",
       "      <td>0.580079</td>\n",
       "      <td>0.027530</td>\n",
       "      <td>0.485732</td>\n",
       "      <td>0.547994</td>\n",
       "    </tr>\n",
       "    <tr>\n",
       "      <th>2111</th>\n",
       "      <td>0.170469</td>\n",
       "      <td>0.536200</td>\n",
       "      <td>0.545008</td>\n",
       "      <td>0.000923</td>\n",
       "      <td>0.504465</td>\n",
       "      <td>0.548621</td>\n",
       "    </tr>\n",
       "    <tr>\n",
       "      <th>2113</th>\n",
       "      <td>0.188223</td>\n",
       "      <td>0.489526</td>\n",
       "      <td>0.493884</td>\n",
       "      <td>0.000436</td>\n",
       "      <td>0.525976</td>\n",
       "      <td>0.543476</td>\n",
       "    </tr>\n",
       "    <tr>\n",
       "      <th>2115</th>\n",
       "      <td>0.178447</td>\n",
       "      <td>0.495406</td>\n",
       "      <td>0.502012</td>\n",
       "      <td>0.000215</td>\n",
       "      <td>0.521237</td>\n",
       "      <td>0.542906</td>\n",
       "    </tr>\n",
       "    <tr>\n",
       "      <th>...</th>\n",
       "      <td>...</td>\n",
       "      <td>...</td>\n",
       "      <td>...</td>\n",
       "      <td>...</td>\n",
       "      <td>...</td>\n",
       "      <td>...</td>\n",
       "    </tr>\n",
       "    <tr>\n",
       "      <th>2148</th>\n",
       "      <td>0.159906</td>\n",
       "      <td>0.620544</td>\n",
       "      <td>0.633478</td>\n",
       "      <td>0.000746</td>\n",
       "      <td>0.507541</td>\n",
       "      <td>0.601594</td>\n",
       "    </tr>\n",
       "    <tr>\n",
       "      <th>2184</th>\n",
       "      <td>0.162378</td>\n",
       "      <td>0.662073</td>\n",
       "      <td>0.675214</td>\n",
       "      <td>0.003713</td>\n",
       "      <td>0.443745</td>\n",
       "      <td>0.555918</td>\n",
       "    </tr>\n",
       "    <tr>\n",
       "      <th>2189</th>\n",
       "      <td>0.150242</td>\n",
       "      <td>0.503308</td>\n",
       "      <td>0.515951</td>\n",
       "      <td>0.000466</td>\n",
       "      <td>0.524944</td>\n",
       "      <td>0.554331</td>\n",
       "    </tr>\n",
       "    <tr>\n",
       "      <th>2296</th>\n",
       "      <td>0.048994</td>\n",
       "      <td>0.580853</td>\n",
       "      <td>0.622099</td>\n",
       "      <td>0.000581</td>\n",
       "      <td>0.474773</td>\n",
       "      <td>0.559639</td>\n",
       "    </tr>\n",
       "    <tr>\n",
       "      <th>2287</th>\n",
       "      <td>0.173727</td>\n",
       "      <td>0.728960</td>\n",
       "      <td>0.740033</td>\n",
       "      <td>0.016689</td>\n",
       "      <td>0.393951</td>\n",
       "      <td>0.537862</td>\n",
       "    </tr>\n",
       "  </tbody>\n",
       "</table>\n",
       "<p>225 rows × 6 columns</p>\n",
       "</div>"
      ],
      "text/plain": [
       "                   Vобр      Vпор    Кп, мД   Кпр, мД  rhob_объемная, r/см3  \\\n",
       "Номер образца                                                                 \n",
       "2108           0.161254  0.545204  0.556305  0.000413              0.561111   \n",
       "2110           0.159119  0.567990  0.580079  0.027530              0.485732   \n",
       "2111           0.170469  0.536200  0.545008  0.000923              0.504465   \n",
       "2113           0.188223  0.489526  0.493884  0.000436              0.525976   \n",
       "2115           0.178447  0.495406  0.502012  0.000215              0.521237   \n",
       "...                 ...       ...       ...       ...                   ...   \n",
       "2148           0.159906  0.620544  0.633478  0.000746              0.507541   \n",
       "2184           0.162378  0.662073  0.675214  0.003713              0.443745   \n",
       "2189           0.150242  0.503308  0.515951  0.000466              0.524944   \n",
       "2296           0.048994  0.580853  0.622099  0.000581              0.474773   \n",
       "2287           0.173727  0.728960  0.740033  0.016689              0.393951   \n",
       "\n",
       "               rhob_мин, г/см3  \n",
       "Номер образца                   \n",
       "2108                  0.614892  \n",
       "2110                  0.547994  \n",
       "2111                  0.548621  \n",
       "2113                  0.543476  \n",
       "2115                  0.542906  \n",
       "...                        ...  \n",
       "2148                  0.601594  \n",
       "2184                  0.555918  \n",
       "2189                  0.554331  \n",
       "2296                  0.559639  \n",
       "2287                  0.537862  \n",
       "\n",
       "[225 rows x 6 columns]"
      ]
     },
     "execution_count": 21,
     "metadata": {},
     "output_type": "execute_result"
    }
   ],
   "source": [
    "data_norm_chist=data_norm.drop(columns=['Диаметр', 'Длина', 'Масса, г', 'Давление'])\n",
    "data_norm_chist"
   ]
  },
  {
   "cell_type": "code",
   "execution_count": 24,
   "id": "6bca3697",
   "metadata": {
    "scrolled": true
   },
   "outputs": [
    {
     "data": {
      "image/png": "[encoded data removed]",
      "text/plain": [
       "<Figure size 1080x1080 with 42 Axes>"
      ]
     },
     "metadata": {
      "needs_background": "light"
     },
     "output_type": "display_data"
    }
   ],
   "source": [
    "x = sns.PairGrid(data_norm_chist)\n",
    "x = x.map_diag(plt.hist)\n",
    "x = x.map_offdiag(plt.scatter)"
   ]
  },
  {
   "cell_type": "markdown",
   "id": "09a3a375",
   "metadata": {},
   "source": [
    "На построенных петрофизических зависимостях наблюдается большое количество разбросов значений, особенно на графике коээфициент пористости - объёмная плотность. В теории они не считаются выбросами, так как работа идет с одними и теми же отложениями, которые характеризуются изменчивостью в составе (структуре). В петрофизике бывают хорошие петрофизические зависимости без разбросов, но строятся они по очень маленькой выборке - 10-20 образцов."
   ]
  },
  {
   "cell_type": "markdown",
   "id": "445ae320",
   "metadata": {},
   "source": [
    "Посмотрим разброс значений с помощью box-плота на примере коэффициента пористости."
   ]
  },
  {
   "cell_type": "code",
   "execution_count": 25,
   "id": "92cbad80",
   "metadata": {
    "scrolled": false
   },
   "outputs": [
    {
     "data": {
      "text/plain": [
       "<AxesSubplot:title={'center':'разброс пористости'}>"
      ]
     },
     "execution_count": 25,
     "metadata": {},
     "output_type": "execute_result"
    },
    {
     "data": {
      "image/png": "[encoded data removed]",
      "text/plain": [
       "<Figure size 432x288 with 1 Axes>"
      ]
     },
     "metadata": {
      "needs_background": "light"
     },
     "output_type": "display_data"
    }
   ],
   "source": [
    "pet['Кп, мД'].plot.box(title='разброс пористости')"
   ]
  },
  {
   "cell_type": "markdown",
   "id": "3d910117",
   "metadata": {},
   "source": [
    "Наблюдаемый разброс значений плох для построения регрессий и обучения моделей, однако с точки зрения геологии и строения пласта Ю2 тюменской свиты это нормальная картина из-за сильной литологической изменчивости.\n",
    "Посчитаем квантили и IQR, которые могут пригодиться для дальнейшей работы"
   ]
  },
  {
   "cell_type": "code",
   "execution_count": 26,
   "id": "3553d020",
   "metadata": {},
   "outputs": [
    {
     "data": {
      "text/plain": [
       "(12.384, 16.299, 3.914999999999999)"
      ]
     },
     "execution_count": 26,
     "metadata": {},
     "output_type": "execute_result"
    }
   ],
   "source": [
    "Q1 = pet['Кп, мД'].quantile(0.25)\n",
    "Q3 = pet['Кп, мД'].quantile(0.75)\n",
    "IQR = Q3-Q1\n",
    "Q1, Q3, IQR #межквантильный диапазон, показывает значение, соответствующее 50%"
   ]
  },
  {
   "cell_type": "markdown",
   "id": "d40b15f6",
   "metadata": {},
   "source": [
    "Предскажем значения объёмной плотности по коэффициенту пористости и сравним с лабораторными результатами с помощью линейной регрессии."
   ]
  },
  {
   "cell_type": "code",
   "execution_count": 27,
   "id": "c9af190b",
   "metadata": {},
   "outputs": [
    {
     "data": {
      "text/plain": [
       "Text(0, 0.5, 'Объёмная плотность')"
      ]
     },
     "execution_count": 27,
     "metadata": {},
     "output_type": "execute_result"
    },
    {
     "data": {
      "image/png": "[encoded data removed]",
      "text/plain": [
       "<Figure size 720x432 with 1 Axes>"
      ]
     },
     "metadata": {
      "needs_background": "light"
     },
     "output_type": "display_data"
    }
   ],
   "source": [
    "plt.figure(figsize=(10,6))\n",
    "plt.scatter(x=data_norm_chist['Кп, мД'], y=data_norm_chist['rhob_объемная, r/см3'])\n",
    "plt.xlabel('Кп, %')\n",
    "plt.ylabel('Объёмная плотность')"
   ]
  },
  {
   "cell_type": "markdown",
   "id": "2860af66",
   "metadata": {},
   "source": [
    "Выбросы удалять не будем, так как тогда изменится общее представление об отложениях. Приступим к построению линейной регрессии."
   ]
  },
  {
   "cell_type": "code",
   "execution_count": 28,
   "id": "6bbe1e01",
   "metadata": {
    "scrolled": true
   },
   "outputs": [
    {
     "data": {
      "text/plain": [
       "[Номер образца\n",
       " 2108    0.556305\n",
       " 2110    0.580079\n",
       " 2111    0.545008\n",
       " 2113    0.493884\n",
       " 2115    0.502012\n",
       "           ...   \n",
       " 2148    0.633478\n",
       " 2184    0.675214\n",
       " 2189    0.515951\n",
       " 2296    0.622099\n",
       " 2287    0.740033\n",
       " Name: Кп, мД, Length: 225, dtype: float64]"
      ]
     },
     "execution_count": 28,
     "metadata": {},
     "output_type": "execute_result"
    }
   ],
   "source": [
    "pet_spisok=[]\n",
    "pet_spisok.append(data_norm_chist['Кп, мД'])\n",
    "\n",
    "pet_spisok_rhob=[]\n",
    "pet_spisok_rhob.append(data_norm_chist['rhob_объемная, r/см3'])\n",
    "\n",
    "pet_spisok_rhob\n",
    "pet_spisok"
   ]
  },
  {
   "cell_type": "markdown",
   "id": "677cede5",
   "metadata": {},
   "source": [
    "Необходимо найти сдвиг и наклон функции, обобщающей существующие данные. Осуществим с помощью <b>метода наименьших квадратов</b>. Метод заключается в минимизации суммы квадратов отклонений точек, соответствующих реальным наблюдениям данных, от линии регрессии:\n",
    "$\n",
    "\\sum(y_i-(wx_i+b))^2\\rightarrow min\n",
    "$\n",
    "\n",
    "\n",
    "Обобщающая функция представлена в виде: \n",
    "$y=w*x+b$, которая как раз и минимизирует расстояние.\n",
    "\n",
    "$w$ - наклон, который находится по следующей формуле: \n",
    "$ \n",
    "w = \\frac{\\sum((x_i-\\overline{x})(y_i-\\overline{y})}{\\sum(x_i-\\overline{x})^2}\n",
    "$\n",
    "\n",
    "\n",
    "$b$ - сдвиг, который находится по формуле: $b=\\overline{y}-w\\overline{x}$\n"
   ]
  },
  {
   "cell_type": "code",
   "execution_count": 29,
   "id": "60c4f456",
   "metadata": {},
   "outputs": [
    {
     "name": "stdout",
     "output_type": "stream",
     "text": [
      "Наклон:-0.48923282772611876; Сдвиг:0.7895776834432481\n"
     ]
    }
   ],
   "source": [
    "pet_spisok=data_norm_chist['Кп, мД'].to_numpy()\n",
    "pet_spisok_rhob=data_norm_chist['rhob_объемная, r/см3']\n",
    "\n",
    "x_mean=np.mean(pet_spisok)\n",
    "y_mean=np.mean(pet_spisok_rhob)\n",
    "\n",
    "numerator=0\n",
    "#sp_num=[]\n",
    "denominator=0\n",
    "#sp_den=[]\n",
    "#for i in range(len(pet_spisok)): # вычислили числитель и знаменатель\n",
    "numerator =((pet_spisok-x_mean)*(pet_spisok_rhob-y_mean)).sum()\n",
    "denominator =((pet_spisok-x_mean)**2).sum()\n",
    "    \n",
    "# найдем наклон и сдвиг\n",
    "w = numerator/denominator\n",
    "b = y_mean - w*x_mean\n",
    "\n",
    "#sp_num.append(numerator)\n",
    "#summa_w=np.sum(sp_num)\n",
    "\n",
    "#sp_den.append(denominator)\n",
    "#summa_d=np.sum(sp_den)\n",
    "\n",
    "#w=summa_w/summa_d\n",
    "print(f'Наклон:{w}; Сдвиг:{b}')"
   ]
  },
  {
   "cell_type": "markdown",
   "id": "300c81fa",
   "metadata": {},
   "source": [
    "Получается уравнение вида $y = -0.48923282772611876*x + 0.7895776834432481$"
   ]
  },
  {
   "cell_type": "markdown",
   "id": "34d13dff",
   "metadata": {},
   "source": [
    "Применим класс LinearRegression, чтобы проверить адекватность посчитанных вручную данных"
   ]
  },
  {
   "cell_type": "code",
   "execution_count": 30,
   "id": "c63ddb86",
   "metadata": {},
   "outputs": [
    {
     "data": {
      "text/plain": [
       "(array([-0.48923283]), 0.789577683443248)"
      ]
     },
     "execution_count": 30,
     "metadata": {},
     "output_type": "execute_result"
    }
   ],
   "source": [
    "Kp=data_norm_chist['Кп, мД'].values\n",
    "rhob=data_norm_chist['rhob_объемная, r/см3'].values\n",
    "x=np.array(Kp)\n",
    "y=np.array(rhob)\n",
    "model = LinearRegression()\n",
    "model.fit(x.reshape(-1,1),y)\n",
    "model.coef_, model.intercept_"
   ]
  },
  {
   "cell_type": "markdown",
   "id": "ef6ca070",
   "metadata": {},
   "source": [
    "Значения сдвига и наклона, полученные вручную, сходятся со значениями, полученными с помощью встроенной функции"
   ]
  },
  {
   "cell_type": "code",
   "execution_count": 31,
   "id": "149546fe",
   "metadata": {
    "scrolled": true
   },
   "outputs": [
    {
     "data": {
      "text/plain": [
       "Text(0, 0.5, 'Объёмная плотность')"
      ]
     },
     "execution_count": 31,
     "metadata": {},
     "output_type": "execute_result"
    },
    {
     "data": {
      "image/png": "[encoded data removed]",
      "text/plain": [
       "<Figure size 720x432 with 1 Axes>"
      ]
     },
     "metadata": {
      "needs_background": "light"
     },
     "output_type": "display_data"
    }
   ],
   "source": [
    "x_y=np.array(Kp).reshape(-1,1)\n",
    "plt.figure(figsize=(10,6))\n",
    "plt.scatter(x=data_norm_chist['Кп, мД'], y=data_norm_chist['rhob_объемная, r/см3'])\n",
    "plt.plot(x_y, model.predict(x_y), color='red')\n",
    "plt.xlabel('Кп, %')\n",
    "plt.ylabel('Объёмная плотность')\n"
   ]
  },
  {
   "cell_type": "markdown",
   "id": "6f94ee15",
   "metadata": {},
   "source": [
    "Сделаем прогноз и рассчитаем среднеквадратичную ошибку для оценки качества модели\n",
    "<b>Средняя квадратичная ошибка (MSE)</b> измеряет среднее значение квадратов ошибок, то есть среднеквадратичную разницу между оцененными и фактическими значениями. "
   ]
  },
  {
   "cell_type": "code",
   "execution_count": 32,
   "id": "38584ef6",
   "metadata": {},
   "outputs": [
    {
     "data": {
      "text/plain": [
       "0.009459779747572753"
      ]
     },
     "execution_count": 32,
     "metadata": {},
     "output_type": "execute_result"
    }
   ],
   "source": [
    "y_pred_least_squares = model.predict(x_y)\n",
    "from sklearn import metrics\n",
    "metrics.mean_squared_error(y, y_pred_least_squares) # среднеквадратич. ошибка"
   ]
  },
  {
   "cell_type": "markdown",
   "id": "311a5cdb",
   "metadata": {},
   "source": [
    "Посмотрим <b>коэффициент детерминации</b> $R^2$ - это статистический показатель, отражающий объясняющую способность регрессии. Насколько регрессия приближена к данным. Изменяется от 0 до 1. Чем коэффициент ближе к 1, тем модель больше соотвтетствует данным.\n",
    "$\n",
    "R^2=1-\\frac{\\sum(y_i-\\hat{y})^2}{\\sum(y_i-\\overline{y})^2}\n",
    "$\n",
    "$y_i$-фактические данные;\n",
    "$\\hat{y}$-моделируемые данные;\n",
    "$\\overline{y}$-среднее значение фактических данных;\n",
    "$SEE=\\sum(y_i-\\hat{y})^2$-сумма квадратов остатков (ошибок) регрессии;\n",
    "$STT=\\sum(y_i-\\overline{y})^2$-полная сумма квадратов, т.е. сумма квадратов отклонений точек данных от среднего значения.\n"
   ]
  },
  {
   "cell_type": "code",
   "execution_count": 33,
   "id": "718b5366",
   "metadata": {
    "scrolled": true
   },
   "outputs": [
    {
     "data": {
      "text/plain": [
       "0.45421057578386514"
      ]
     },
     "execution_count": 33,
     "metadata": {},
     "output_type": "execute_result"
    }
   ],
   "source": [
    "model.score(x_y,y)"
   ]
  },
  {
   "cell_type": "code",
   "execution_count": 34,
   "id": "93423273",
   "metadata": {},
   "outputs": [
    {
     "data": {
      "text/plain": [
       "Text(0, 0.5, 'Объёмная плотность предсказанная')"
      ]
     },
     "execution_count": 34,
     "metadata": {},
     "output_type": "execute_result"
    },
    {
     "data": {
      "image/png": "[encoded data removed]",
      "text/plain": [
       "<Figure size 720x432 with 1 Axes>"
      ]
     },
     "metadata": {
      "needs_background": "light"
     },
     "output_type": "display_data"
    }
   ],
   "source": [
    "plt.figure(figsize=(10,6))\n",
    "plt.scatter(y,y_pred_least_squares)\n",
    "plt.xlabel('Объёмная плотность исходная')\n",
    "plt.ylabel('Объёмная плотность предсказанная')"
   ]
  },
  {
   "cell_type": "markdown",
   "id": "b261f252",
   "metadata": {},
   "source": [
    "### Сделаем то же самое градиентным спуском"
   ]
  },
  {
   "cell_type": "markdown",
   "id": "55bb9843",
   "metadata": {},
   "source": [
    "<b>Градиентный спуск</b> - метод, с помощью которого минимизация ошибки происходит по движению антиградиента.\n",
    "Применим среднеквадратичную ошибку: $J=1/n{\\sum(y_i-y_p)^2}$, которую необходимо минимизировать\n",
    "\n",
    "где $y_p$ - функция, полученная при значении коэффициентов $w$,$b$\n",
    "\n",
    "$y_p=wx_i+b$\n",
    "\n",
    "$y_i$, $x_i$ - значение, полученное при наблюдении i\n",
    "\n",
    "\n",
    "Необходимо взять частные производные по наклону и по сдвигу.\n",
    "Производная по <b>наклону $w$</b>:\n",
    "\n",
    "$\\frac{\\partial J}{\\partial w} = \\frac{1}{n}\\frac{\\partial J}{\\partial w}(y_i-(wx_i+b))^2) = 0\\\\\n",
    "    \\frac{\\partial J}{\\partial w} = \\frac{2}{n}(y-(wx+b))\\frac{\\partial J}{\\partial w}(y_i-(wx_i+b)) = 0\\\\\n",
    "    \\frac{\\partial J}{\\partial w} = \\frac{2}{n}(y-(wx+b))\\frac{\\partial J}{\\partial w}(0-(x_i+0))^2) = 0$\n",
    "Итоговая формула производной выглядит следующим образом:\n",
    "$\\frac{\\partial J}{\\partial w} = \\frac{2}{n}(-x_i)(y_i-(wx_i+b)) = 0$\n",
    "\n",
    "Аналогичным образом получаем производную по <b>сдвигу $b$</b>:\n",
    "    $\\frac{\\partial J}{\\partial w} = \\frac{1}{n}\\frac{\\partial J}{\\partial w}(y_i-(wx_i+b))^2) = 0\\\\\n",
    "    \\frac{\\partial J}{\\partial w} = \\frac{2}{n}(y_i-(wx_i+b))\\frac{\\partial J}{\\partial w}(y_i-(wx_i+b)) = 0\\\\\n",
    "    \\frac{\\partial J}{\\partial w} = \\frac{2}{n}(y_i-(wx_i+b))\\frac{\\partial J}{\\partial w}(0-(0+1))^2) = 0$\n",
    "Итоговая формула производной по сдвигу выглядит следующим образом:\n",
    "$\\frac{\\partial J}{\\partial w} = \\frac{2}{n}((wx_i+b)-y_i) = 0$\n",
    "\n",
    "На вход функция принимает необходимые данные, количество итераций и \"шаг\" обучения."
   ]
  },
  {
   "cell_type": "code",
   "execution_count": 35,
   "id": "78022c16",
   "metadata": {},
   "outputs": [],
   "source": [
    "def regression(X, w, b):\n",
    "    return w * X + b"
   ]
  },
  {
   "cell_type": "code",
   "execution_count": 36,
   "id": "7d43eea7",
   "metadata": {},
   "outputs": [],
   "source": [
    "def partial_w(X, y, w, b, n):\n",
    "      return (2/n)*np.sum((-X) * ((w * X + b) - y))"
   ]
  },
  {
   "cell_type": "code",
   "execution_count": 37,
   "id": "65a3d9c9",
   "metadata": {},
   "outputs": [],
   "source": [
    "def partial_b(X, y, w, b, n):\n",
    "      return (2/n)*np.sum((w * X + b) - y)"
   ]
  },
  {
   "cell_type": "code",
   "execution_count": 38,
   "id": "a3298328",
   "metadata": {},
   "outputs": [],
   "source": [
    "def gradient_descent(X, y, iter, learning_rate):\n",
    "    \n",
    "    w, b = 0, 0  # изначальные веса\n",
    "    n = len(X)   # количество наблюдений\n",
    " \n",
    "    w_list, b_list= [], [] # создадим списки для записи весов модели и уровня ошибки\n",
    " \n",
    "    for i in range(iter):\n",
    "        w_list.append(w)  # добавим в списки текущие веса\n",
    "        b_list.append(b)\n",
    "        par_1 = partial_w(X, y, w, b, n) # рассчитаем текущее значение частных производных\n",
    "        par_2 = partial_b(X, y, w, b, n)\n",
    "        w = w - learning_rate * par_1  # обновим веса в направлении антиградиента\n",
    "        b = b - learning_rate * par_2   # выведем списки с уровнями ошибки и весами\n",
    "        \n",
    "    return w_list, b_list"
   ]
  },
  {
   "cell_type": "code",
   "execution_count": 39,
   "id": "aff7209b",
   "metadata": {},
   "outputs": [
    {
     "name": "stdout",
     "output_type": "stream",
     "text": [
      "-0.3559610150140511 0.6857554723877871\n"
     ]
    }
   ],
   "source": [
    "w_list, b_list = gradient_descent(Kp, rhob, iter=100, learning_rate=0.020)\n",
    "print(w_list[-1], b_list[-1])"
   ]
  },
  {
   "cell_type": "markdown",
   "id": "6583054d",
   "metadata": {},
   "source": [
    "   Результаты не сходятся с методом МНК, сложно подобрать количество итераций и шаг обучения"
   ]
  },
  {
   "cell_type": "markdown",
   "id": "fa671fb1",
   "metadata": {},
   "source": [
    "### Множественная линейная регрессия"
   ]
  },
  {
   "cell_type": "markdown",
   "id": "b55ddb0b",
   "metadata": {},
   "source": [
    "Построим множественную регрессию, на основе которой предположим коэффициент пористости по объёму пор и объёмной плотности."
   ]
  },
  {
   "cell_type": "code",
   "execution_count": 40,
   "id": "bf7cf3b3",
   "metadata": {},
   "outputs": [],
   "source": [
    "pet_data=pet[['Vпор', 'rhob_объемная, r/см3']].values\n",
    "pet_target= pet[['Кп, мД']].values # целевая переменная \n",
    "X, y = scale(pet_data), pet_target"
   ]
  },
  {
   "cell_type": "code",
   "execution_count": 41,
   "id": "6bfba504",
   "metadata": {},
   "outputs": [
    {
     "name": "stdout",
     "output_type": "stream",
     "text": [
      "Коэффициент детерминации равен: 0.9875263301839478\n"
     ]
    }
   ],
   "source": [
    "r_mod = LinearRegression()\n",
    "r_mod.fit(X, y)\n",
    "print('Коэффициент детерминации равен:', r_mod.score(X,y))"
   ]
  },
  {
   "cell_type": "markdown",
   "id": "632b72c0",
   "metadata": {},
   "source": [
    "Коэффициент детерминации показывает хорошую сходимость признаков и целевой переменной."
   ]
  },
  {
   "cell_type": "code",
   "execution_count": 42,
   "id": "4fe9ac63",
   "metadata": {},
   "outputs": [
    {
     "name": "stdout",
     "output_type": "stream",
     "text": [
      "intercept: [14.18464]\n",
      "slope: [[4.75859331 0.45972876]]\n"
     ]
    }
   ],
   "source": [
    "print('intercept:', r_mod.intercept_) # пересечение с осью y\n",
    "print('slope:', r_mod.coef_)"
   ]
  },
  {
   "cell_type": "markdown",
   "id": "51b1db60",
   "metadata": {},
   "source": [
    "Функция множественной регрессии имеет вид: $y=14.18464+4.75859331*x_1+0.45972876*x_2$"
   ]
  },
  {
   "cell_type": "code",
   "execution_count": 43,
   "id": "945a5309",
   "metadata": {},
   "outputs": [
    {
     "name": "stdout",
     "output_type": "stream",
     "text": [
      "prediction\n",
      "[[14.14331211]\n",
      " [14.49009728]\n",
      " [13.70445189]\n",
      " [12.53003312]\n",
      " [12.67090698]\n",
      " [11.17141973]\n",
      " [13.51004254]\n",
      " [13.52383473]\n",
      " [14.76976691]\n",
      " [14.45707327]\n",
      " [14.94628834]\n",
      " [14.94854977]\n",
      " [15.38260205]\n",
      " [14.94589622]\n",
      " [15.13846909]\n",
      " [14.71349081]\n",
      " [14.98558209]\n",
      " [15.31617057]\n",
      " [16.17177799]\n",
      " [16.30045818]\n",
      " [15.61853591]\n",
      " [16.42117476]\n",
      " [16.02064824]\n",
      " [15.54027573]\n",
      " [15.51487876]\n",
      " [12.6565876 ]\n",
      " [15.54697071]\n",
      " [15.63610142]\n",
      " [15.42511583]\n",
      " [14.21568581]\n",
      " [13.15907075]\n",
      " [12.11943766]\n",
      " [11.34066033]\n",
      " [13.44567459]\n",
      " [13.40953873]\n",
      " [14.48957263]\n",
      " [15.67425391]\n",
      " [14.68335902]\n",
      " [16.04637176]\n",
      " [16.32987489]\n",
      " [16.98346416]\n",
      " [17.66674651]\n",
      " [12.85067533]\n",
      " [13.81181741]\n",
      " [15.57627373]\n",
      " [18.39724496]\n",
      " [16.59001539]\n",
      " [16.89549669]\n",
      " [16.88957291]\n",
      " [17.04804108]\n",
      " [10.99368977]\n",
      " [16.55385383]\n",
      " [15.30621397]\n",
      " [15.47143295]\n",
      " [12.60551372]\n",
      " [16.21650597]\n",
      " [11.29474539]\n",
      " [12.09679943]\n",
      " [16.1067854 ]\n",
      " [14.23762614]\n",
      " [17.32185293]\n",
      " [20.01813634]\n",
      " [ 6.15134583]\n",
      " [ 6.15889219]\n",
      " [10.83363364]\n",
      " [ 6.5552041 ]\n",
      " [ 6.27747396]\n",
      " [ 5.42326902]\n",
      " [ 4.97090018]\n",
      " [ 6.1083112 ]\n",
      " [ 5.31890624]\n",
      " [16.8311055 ]\n",
      " [16.93199635]\n",
      " [14.12565771]\n",
      " [18.0270085 ]\n",
      " [18.19482869]\n",
      " [13.47835378]\n",
      " [15.58515536]\n",
      " [14.42070436]\n",
      " [16.09795805]\n",
      " [17.75229011]\n",
      " [15.05094763]\n",
      " [21.48331749]\n",
      " [11.24842596]\n",
      " [14.05337626]\n",
      " [10.74424451]\n",
      " [20.93503927]\n",
      " [12.38437969]\n",
      " [11.76489655]\n",
      " [15.17262582]\n",
      " [14.36603352]\n",
      " [15.27155448]\n",
      " [13.24204603]\n",
      " [15.53404562]\n",
      " [14.58536988]\n",
      " [13.76606291]\n",
      " [20.12310979]\n",
      " [17.42218061]\n",
      " [ 7.70539578]\n",
      " [14.85198893]\n",
      " [ 9.04316512]\n",
      " [10.78577758]\n",
      " [ 4.89881697]\n",
      " [ 3.76057893]\n",
      " [16.95480377]\n",
      " [16.17868618]\n",
      " [15.80900836]\n",
      " [11.62932329]\n",
      " [12.30787484]\n",
      " [16.17941516]\n",
      " [16.39026402]\n",
      " [14.81478836]\n",
      " [16.06008416]\n",
      " [17.75741108]\n",
      " [14.97819254]\n",
      " [13.68160725]\n",
      " [14.80388416]\n",
      " [13.043901  ]\n",
      " [13.17571458]\n",
      " [13.69940233]\n",
      " [19.10387188]\n",
      " [18.77494308]\n",
      " [24.56056424]\n",
      " [ 8.00197456]\n",
      " [ 7.07262553]\n",
      " [ 0.16540923]\n",
      " [14.58302116]\n",
      " [15.68976311]\n",
      " [15.83912428]\n",
      " [25.30718056]\n",
      " [ 0.25840889]\n",
      " [ 8.19742172]\n",
      " [ 4.36051882]\n",
      " [16.33226956]\n",
      " [12.55262049]\n",
      " [ 4.69979283]\n",
      " [ 9.74917257]\n",
      " [10.80404538]\n",
      " [ 7.48754441]\n",
      " [14.31727368]\n",
      " [22.21889365]\n",
      " [15.93202559]\n",
      " [ 8.56415546]\n",
      " [16.86836388]\n",
      " [15.07779223]\n",
      " [10.30671907]\n",
      " [16.16150182]\n",
      " [13.76878164]\n",
      " [17.82982701]\n",
      " [18.81045124]\n",
      " [22.26753881]\n",
      " [12.78805576]\n",
      " [12.77756776]\n",
      " [13.72683149]\n",
      " [16.76681645]\n",
      " [21.05357401]\n",
      " [10.96454966]\n",
      " [13.83189377]\n",
      " [22.87370877]\n",
      " [13.52420261]\n",
      " [14.03171698]\n",
      " [13.21300518]\n",
      " [14.09603532]\n",
      " [18.76190629]\n",
      " [19.98803172]\n",
      " [ 9.16948238]\n",
      " [ 7.74180323]\n",
      " [22.13744329]\n",
      " [ 1.38991147]\n",
      " [13.29455136]\n",
      " [14.36492937]\n",
      " [14.51091088]\n",
      " [ 5.57756452]\n",
      " [ 5.83774466]\n",
      " [21.1083605 ]\n",
      " [19.97056306]\n",
      " [ 9.0131738 ]\n",
      " [14.46078834]\n",
      " [ 9.4279578 ]\n",
      " [16.42470437]\n",
      " [13.69171277]\n",
      " [16.10584042]\n",
      " [15.53439508]\n",
      " [15.61316749]\n",
      " [18.70134035]\n",
      " [15.45005525]\n",
      " [ 8.5864652 ]\n",
      " [14.128657  ]\n",
      " [15.75761116]\n",
      " [22.6182254 ]\n",
      " [ 7.90806901]\n",
      " [17.41699382]\n",
      " [19.05257023]\n",
      " [15.48363302]\n",
      " [ 4.52472219]\n",
      " [12.15672497]\n",
      " [15.65492572]\n",
      " [12.43671093]\n",
      " [12.22209336]\n",
      " [15.77225379]\n",
      " [16.26264824]\n",
      " [15.79156961]\n",
      " [16.79941953]\n",
      " [20.35665561]\n",
      " [ 8.58811671]\n",
      " [24.49057252]\n",
      " [10.17074609]\n",
      " [24.16657728]\n",
      " [18.22346875]\n",
      " [ 5.82391772]\n",
      " [22.89194094]\n",
      " [ 9.40021754]\n",
      " [12.77781299]\n",
      " [15.39918389]\n",
      " [21.53444461]\n",
      " [14.25835038]\n",
      " [22.72434521]\n",
      " [10.56058247]\n",
      " [13.20127295]\n",
      " [14.86132045]\n",
      " [15.97321195]\n",
      " [16.86222759]\n",
      " [12.8953891 ]\n",
      " [14.79618944]\n",
      " [18.47901827]]\n"
     ]
    }
   ],
   "source": [
    "y_pred = r_mod.predict(X)\n",
    "print('prediction', y_pred, sep='\\n') # предсказанная пористость"
   ]
  },
  {
   "cell_type": "code",
   "execution_count": 44,
   "id": "76d27218",
   "metadata": {},
   "outputs": [
    {
     "data": {
      "text/plain": [
       "<function matplotlib.pyplot.show(close=None, block=None)>"
      ]
     },
     "execution_count": 44,
     "metadata": {},
     "output_type": "execute_result"
    },
    {
     "data": {
      "image/png": "[encoded data removed]",
      "text/plain": [
       "<Figure size 432x288 with 1 Axes>"
      ]
     },
     "metadata": {
      "needs_background": "light"
     },
     "output_type": "display_data"
    }
   ],
   "source": [
    "plt.scatter(y, y_pred)\n",
    "plt.xlabel('Пористость исходная')\n",
    "plt.ylabel('Пористость предсказанная')\n",
    "plt.show"
   ]
  },
  {
   "cell_type": "markdown",
   "id": "3e31607b",
   "metadata": {},
   "source": [
    "Из-за того, что нет типизации по литотипам и работа идет со всеми отложениями в общем, не получается в точности описать данные."
   ]
  },
  {
   "cell_type": "markdown",
   "id": "f24cb670",
   "metadata": {},
   "source": [
    "В работе не было разбивки данных на трейн и тест, так как отложения неоднородны (обученная модель с большой долей вероятности не сработает на другом литотипе) и данных в принципе мало."
   ]
  },
  {
   "cell_type": "markdown",
   "id": "71b1af61",
   "metadata": {},
   "source": [
    "# (Дополнительная часть работы) Попытка убрать выбросы(другие литотипы пород) и построить модель только для одного литотипа"
   ]
  },
  {
   "cell_type": "code",
   "execution_count": 45,
   "id": "9efd5c49",
   "metadata": {},
   "outputs": [],
   "source": [
    "pet_copy = data_norm_chist.copy()"
   ]
  },
  {
   "cell_type": "code",
   "execution_count": 46,
   "id": "32383d0f",
   "metadata": {},
   "outputs": [
    {
     "name": "stdout",
     "output_type": "stream",
     "text": [
      "размер датасета до удаления выбросов (225, 10)\n"
     ]
    }
   ],
   "source": [
    "print('размер датасета до удаления выбросов', pet.shape)"
   ]
  },
  {
   "cell_type": "code",
   "execution_count": 47,
   "id": "1eb366ca",
   "metadata": {},
   "outputs": [
    {
     "data": {
      "text/plain": [
       "0.1591010688015605"
      ]
     },
     "execution_count": 47,
     "metadata": {},
     "output_type": "execute_result"
    }
   ],
   "source": [
    "Q1 = pet_copy['Кп, мД'].quantile(0.25)\n",
    "Q3 = pet_copy['Кп, мД'].quantile(0.75)\n",
    "IQR = Q3-Q1\n",
    "IQR"
   ]
  },
  {
   "cell_type": "code",
   "execution_count": 48,
   "id": "9b10ab99",
   "metadata": {},
   "outputs": [
    {
     "data": {
      "text/plain": [
       "(216, 10)"
      ]
     },
     "execution_count": 48,
     "metadata": {},
     "output_type": "execute_result"
    }
   ],
   "source": [
    "pet_copy_sh= pet[~((pet_copy['rhob_объемная, r/см3'] < (Q1 - 1.5*IQR))| (pet_copy['rhob_объемная, r/см3']>(Q3+1.5*IQR)))]\n",
    "pet_copy_sh.shape"
   ]
  },
  {
   "cell_type": "code",
   "execution_count": 49,
   "id": "41e4317d",
   "metadata": {},
   "outputs": [
    {
     "data": {
      "text/plain": [
       "0.11138528186067559"
      ]
     },
     "execution_count": 49,
     "metadata": {},
     "output_type": "execute_result"
    }
   ],
   "source": [
    "Q1 = pet_copy['rhob_объемная, r/см3'].quantile(0.25)\n",
    "Q3 = pet_copy['rhob_объемная, r/см3'].quantile(0.75)\n",
    "IQR = Q3-Q1\n",
    "IQR"
   ]
  },
  {
   "cell_type": "code",
   "execution_count": 50,
   "id": "03006087",
   "metadata": {},
   "outputs": [],
   "source": [
    "#pet_copy_sh= pet_copy[~((pet_copy['rhob_объемная, r/см3'] < (Q1 - 1.5*IQR))| (pet_copy['rhob_объемная, r/см3']>(Q3+1.5*IQR)))]\n",
    "#pet_copy_sh.shape"
   ]
  },
  {
   "cell_type": "code",
   "execution_count": 51,
   "id": "eb873d0c",
   "metadata": {
    "scrolled": true
   },
   "outputs": [
    {
     "data": {
      "text/plain": [
       "Text(0, 0.5, 'Объёмная плотность')"
      ]
     },
     "execution_count": 51,
     "metadata": {},
     "output_type": "execute_result"
    },
    {
     "data": {
      "image/png": "[encoded data removed]",
      "text/plain": [
       "<Figure size 720x432 with 1 Axes>"
      ]
     },
     "metadata": {
      "needs_background": "light"
     },
     "output_type": "display_data"
    }
   ],
   "source": [
    "plt.figure(figsize=(10,6))\n",
    "plt.scatter(x=pet_copy_sh['Кп, мД'], y=pet_copy_sh['rhob_объемная, r/см3'])\n",
    "plt.xlabel('Кп, %')\n",
    "plt.ylabel('Объёмная плотность')"
   ]
  },
  {
   "cell_type": "markdown",
   "id": "85f2b5cb",
   "metadata": {},
   "source": [
    "# Кластеризация методом ближайшего соседа k-means"
   ]
  },
  {
   "cell_type": "markdown",
   "id": "cf095591",
   "metadata": {},
   "source": [
    "Попробуем разделить образцы на литотипы, чтобы построить более точную модель.\n",
    "Кластеризация происходит следующим образом:\n",
    "1) по методу 'k-means++' алгоритм размещает центроиды по плоскости с данными;\n",
    "\n",
    "2) считает расстояние между кластерами;\n",
    "\n",
    "3) наиболее приближенные к центроиду данные объединяются в один центроид;\n",
    "\n",
    "4) дальше случайный центроид в полученном кластере смещается по значению среднего арифметического расстояний от данного центроида до всех остальных точек."
   ]
  },
  {
   "cell_type": "code",
   "execution_count": 52,
   "id": "e6f8ef61",
   "metadata": {},
   "outputs": [],
   "source": [
    " x_clast = pet.loc[:,['rhob_объемная, r/см3','Кп, мД']].values"
   ]
  },
  {
   "cell_type": "markdown",
   "id": "56737da5",
   "metadata": {},
   "source": [
    "Чтобы определить количество классов, воспользуемся методом \"локтя\" и посмотрим, при каком значении фукнция ошибки перестает быстро изменяться."
   ]
  },
  {
   "cell_type": "code",
   "execution_count": 53,
   "id": "e74471fc",
   "metadata": {
    "scrolled": true
   },
   "outputs": [
    {
     "name": "stderr",
     "output_type": "stream",
     "text": [
      "C:\\Users\\albin\\Anakonda\\lib\\site-packages\\sklearn\\cluster\\_kmeans.py:1036: UserWarning: KMeans is known to have a memory leak on Windows with MKL, when there are less chunks than available threads. You can avoid it by setting the environment variable OMP_NUM_THREADS=1.\n",
      "  warnings.warn(\n"
     ]
    },
    {
     "data": {
      "text/plain": [
       "<function matplotlib.pyplot.show(close=None, block=None)>"
      ]
     },
     "execution_count": 53,
     "metadata": {},
     "output_type": "execute_result"
    },
    {
     "data": {
      "image/png": "[encoded data removed]",
      "text/plain": [
       "<Figure size 432x288 with 1 Axes>"
      ]
     },
     "metadata": {
      "needs_background": "light"
     },
     "output_type": "display_data"
    }
   ],
   "source": [
    "from sklearn.cluster import KMeans\n",
    "error_rates = [] # список для частоты ошибок при каждом значении колич. классов\n",
    "for i in range(1,11):\n",
    "    kmeans = KMeans(n_clusters = i, init = 'k-means++')\n",
    "    kmeans.fit(x_clast)\n",
    "    error_rates.append(kmeans.inertia_)\n",
    "    \n",
    "plt.plot(range(1,11), error_rates)\n",
    "plt.xlabel('Количество кластеров')\n",
    "plt.ylabel('Частота ошибок')\n",
    "plt.show"
   ]
  },
  {
   "cell_type": "markdown",
   "id": "63e137dd",
   "metadata": {},
   "source": [
    "После значения 3 измнение функции замедляется, поэтому возьмем это значение"
   ]
  },
  {
   "cell_type": "code",
   "execution_count": 54,
   "id": "8c170f34",
   "metadata": {},
   "outputs": [],
   "source": [
    "kmeans = KMeans(n_clusters = 3, init = 'k-means++', random_state=42)\n",
    "y_kmeans = kmeans.fit_predict(x_clast)"
   ]
  },
  {
   "cell_type": "code",
   "execution_count": 55,
   "id": "0c98b6a8",
   "metadata": {},
   "outputs": [
    {
     "data": {
      "image/png": "[encoded data removed]",
      "text/plain": [
       "<Figure size 432x288 with 1 Axes>"
      ]
     },
     "metadata": {
      "needs_background": "light"
     },
     "output_type": "display_data"
    }
   ],
   "source": [
    "plt.scatter(x_clast[y_kmeans == 0, 0], x_clast[y_kmeans == 0, 1], s = 5, c='red', label='Class1')\n",
    "plt.scatter(x_clast[y_kmeans == 1, 0], x_clast[y_kmeans == 1, 1], s = 5, c='blue', label='Class2')\n",
    "plt.scatter(x_clast[y_kmeans == 2, 0], x_clast[y_kmeans == 2, 1], s = 5, c='green', label='Class3')\n",
    "#plt.scatter(x_clast[y_kmeans == 3, 0], x_clast[y_kmeans == 3, 1], s = 5, c='black', label='Class5')\n",
    "plt.scatter(kmeans.cluster_centers_[:, 0], kmeans.cluster_centers_[:, 1], s = 20, c = 'yellow')\n",
    "plt.xlabel('Пористость')\n",
    "plt.ylabel('Проницаемость')\n",
    "plt.legend()\n",
    "plt.show()"
   ]
  },
  {
   "cell_type": "markdown",
   "id": "139d3f1e",
   "metadata": {},
   "source": [
    "Для такого вида зависимости метод ближайших соседей сработал, но разделил на кластеры не так, как нужно, поэтому нет возможности уточнения модели."
   ]
  },
  {
   "cell_type": "markdown",
   "id": "898222fe",
   "metadata": {},
   "source": [
    "# Выводы"
   ]
  },
  {
   "cell_type": "markdown",
   "id": "43b27943",
   "metadata": {},
   "source": [
    "<b>1</b>. Найдена очень интересная особенность: отствует корреляция между пористостью и минералогической плотностью. Необходимо разобраться, почему так. Ее могло бы не быть по всем образцам вместе, но она бы делилась на подгруппы и мы бы видели это на pairplot, но даже и такого нет.\n",
    "\n",
    "<b>2</b>. В рамках дипломной работы я делала цифровой гранулометрический анализ, но не могла проверить, сопоставляется ли он с лабораторными данными. По линейной регрессии стало понятно, что абсолютной схожести в методах нет, но соблюдается тенденция, что позволяет попробовать сделать подобную работу на другой коллекции, откоректировав как лабораторную методику, так и цифровую.\n",
    "\n",
    "<b>3</b>. Предсказать объёмную плотность по коэффициенту пористости на данной выборке сделать не получилось из-за неоднородности отложений. Была попытка исправить положение, убирая вылетающие значения и кластеризовав отложения, однако это не помогло.\n",
    "\n",
    "<b>4</b>. Несмотря на литологическую неоднородность отложений получилось обучить модель и предсказать пористость по объёму пор и объёмной плотности."
   ]
  }
 ],
 "metadata": {
  "kernelspec": {
   "display_name": "Python 3 (ipykernel)",
   "language": "python",
   "name": "python3"
  },
  "language_info": {
   "codemirror_mode": {
    "name": "ipython",
    "version": 3
   },
   "file_extension": ".py",
   "mimetype": "text/x-python",
   "name": "python",
   "nbconvert_exporter": "python",
   "pygments_lexer": "ipython3",
   "version": "3.9.12"
  }
 },
 "nbformat": 4,
 "nbformat_minor": 5
}
